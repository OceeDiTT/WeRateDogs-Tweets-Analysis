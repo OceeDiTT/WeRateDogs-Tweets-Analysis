{
 "cells": [
  {
   "cell_type": "markdown",
   "metadata": {
    "extensions": {
     "jupyter_dashboards": {
      "version": 1,
      "views": {
       "grid_default": {
        "col": 0,
        "height": 4,
        "hidden": false,
        "row": 0,
        "width": 4
       },
       "report_default": {
        "hidden": false
       }
      }
     }
    }
   },
   "source": [
    "# Project:  WeRateDogs_Tweets Data Wrangling and Analysis"
   ]
  },
  {
   "cell_type": "markdown",
   "metadata": {},
   "source": [
    "# Table of Contents\n",
    "\n",
    ">- Introduction\n",
    ">- Data Wrangling\n",
    ">- Exploratory Data Analysis\n",
    ">- Conclusion"
   ]
  },
  {
   "cell_type": "markdown",
   "metadata": {},
   "source": [
    "# Introduction\n",
    "\n",
    "\n",
    "## Data Description\n",
    "\n",
    "> WeRateDogs is a Twitter account that rates people’s dogs with a humorous comment about the dog. These ratings almost always have a denominator of 10. The numerators, though? Almost always greater than 10. 11/10, 12/10, 13/10, etc. Why? Because “they’re good dogs Brent.” WeRateDogs has over 4 million followers and has received international media coverage. The following datasets were used for this analysis:\n",
    "\n",
    "\n",
    "> `Enhanced Twitter Archive`\n",
    "\n",
    "> The WeRateDogs Twitter archive contains basic tweet data for all 5000+ of their tweets, but not everything. One column the archive does contain though: each tweet’s text, which was used to extract rating, dog name, and dog “stage” (i.e. doggo, floofer, pupper, and puppo) to make this Twitter archive “enhanced.” Of the 5000+ tweets, only tweets with rating was filtered.\n",
    "\n",
    "\n",
    "> `Additional Data via the Twitter API`\n",
    "\n",
    "> Back to the basic-ness of Twitter archives: retweet count and favorite count are two of the notable column omissions. Fortunately, this additional data can be gathered by anyone from Twitter’s API. Well, “anyone” who has access to data for the 3000 most recent tweets, at least. But you, because you have the WeRateDogs Twitter archive and specifically the tweet IDs within it, can gather this data for all 5000+. The resulting data will be read line by line into the pandas Dataframe with (at minimum)tweet ID, retweet_count and favorite_count.\n",
    "\n",
    "\n",
    "> `Image Predictions File`\n",
    "\n",
    "> Every image in the WeRateDogs Twitter archive was ran through a neural network that can classify breeds of dogs. The resulting data is a table full of image predictions (the top three only) alongside each tweet ID, image URL, and the image number that corresponded to the most confident prediction (numbered 1 to 4 since tweets can have up to four images).\n",
    "\n",
    "\n",
    "> The interpretation of the Image prediction file is given as:\n",
    "\n",
    ">- P1 is the algorithm’s No.1 prediction for the image in the tweet.\n",
    ">- P1_conf is how confident the algorithm is in its No.1 prediction.\n",
    ">- P1_dog is whether or not the No.1 prediction is a breed of dog.\n",
    ">- P2 is the algorithm’s second most likely prediction.\n",
    ">- P2_conf is how confident the algorithm is in its No.2 prediction.\n",
    ">- P2_dog is whether or not the No.2 prediction is a breed of dog.\n",
    "\n"
   ]
  },
  {
   "cell_type": "markdown",
   "metadata": {},
   "source": [
    "## Questions for analysis\n",
    "\n",
    "\n",
    ">- What is the most popular dog name.\n",
    "\n",
    ">- Which dog is most loved by people.\n",
    "\n",
    ">- What is the most popular Dog stages."
   ]
  },
  {
   "cell_type": "markdown",
   "metadata": {},
   "source": [
    "# Data Wrangling\n",
    "\n",
    "> Involves the Data Gathering, Accessing, Cleaning and Storing processes.\n",
    "\n",
    "\n",
    "## Data Gathering\n",
    "\n"
   ]
  },
  {
   "cell_type": "code",
   "execution_count": 1,
   "metadata": {},
   "outputs": [],
   "source": [
    "# import requured libraries\n",
    "\n",
    "import pandas as pd\n",
    "import numpy as np\n",
    "import matplotlib.pyplot as plt\n",
    "import seaborn as sns\n",
    "import requests\n",
    "import json\n",
    "import warnings\n",
    "warnings.filterwarnings('ignore')\n",
    "%matplotlib inline\n"
   ]
  },
  {
   "cell_type": "markdown",
   "metadata": {},
   "source": [
    "1. The WeRateDogs Twitter archive data:"
   ]
  },
  {
   "cell_type": "code",
   "execution_count": 2,
   "metadata": {
    "extensions": {
     "jupyter_dashboards": {
      "version": 1,
      "views": {
       "grid_default": {
        "hidden": true
       },
       "report_default": {
        "hidden": true
       }
      }
     }
    }
   },
   "outputs": [],
   "source": [
    "# Read the data into pandas\n",
    "\n",
    "df_twitter_archive= pd.read_csv('twitter-archive-enhanced.csv')\n"
   ]
  },
  {
   "cell_type": "markdown",
   "metadata": {},
   "source": [
    "2. The image prediction data:"
   ]
  },
  {
   "cell_type": "code",
   "execution_count": 3,
   "metadata": {},
   "outputs": [],
   "source": [
    "# Use request to obtain data from the url\n",
    "url= 'https://d17h27t6h515a5.cloudfront.net/topher/2017/August/599fd2ad_image-predictions/image-predictions.tsv'\n",
    "response= requests.get(url)\n",
    "\n",
    "# Write data into a file\n",
    "with open('images.tsv', 'wb') as file:\n",
    "    file.write(response.content)"
   ]
  },
  {
   "cell_type": "code",
   "execution_count": 4,
   "metadata": {},
   "outputs": [],
   "source": [
    "# Read the file into pandas\n",
    "\n",
    "df_images= pd.read_csv('images.tsv', sep= '\\t')"
   ]
  },
  {
   "cell_type": "markdown",
   "metadata": {},
   "source": [
    "3. The tweet data containing retweet_count and favorite_count"
   ]
  },
  {
   "cell_type": "code",
   "execution_count": 5,
   "metadata": {},
   "outputs": [],
   "source": [
    "# Create an empty list\n",
    "tweets= []\n",
    "\n",
    "# Read data line by line and append into the list\n",
    "with open('tweet-json.txt', 'r') as file:\n",
    "    for line in file:\n",
    "        data= json.loads(line) # Load the Json file into a variable 'data'\n",
    "        tweets.append(data)"
   ]
  },
  {
   "cell_type": "code",
   "execution_count": 6,
   "metadata": {},
   "outputs": [
    {
     "data": {
      "text/plain": [
       "dict_keys(['created_at', 'id', 'id_str', 'full_text', 'truncated', 'display_text_range', 'entities', 'extended_entities', 'source', 'in_reply_to_status_id', 'in_reply_to_status_id_str', 'in_reply_to_user_id', 'in_reply_to_user_id_str', 'in_reply_to_screen_name', 'user', 'geo', 'coordinates', 'place', 'contributors', 'is_quote_status', 'retweet_count', 'favorite_count', 'favorited', 'retweeted', 'possibly_sensitive', 'possibly_sensitive_appealable', 'lang'])"
      ]
     },
     "execution_count": 6,
     "metadata": {},
     "output_type": "execute_result"
    }
   ],
   "source": [
    "# Since objects in Json are stored as a coll;ection of 'key : values' pair, \n",
    "# we can access the name column by using the keys method.\n",
    "\n",
    "tweets[0].keys()   # Access the name of each column in the dataset."
   ]
  },
  {
   "cell_type": "code",
   "execution_count": 7,
   "metadata": {},
   "outputs": [],
   "source": [
    "# Load the dataset into pandas using the pandas.DataFrame method\n",
    "\n",
    "df_tweets= pd.DataFrame(tweets, columns= ['id', 'retweet_count', 'favorite_count'])"
   ]
  },
  {
   "cell_type": "markdown",
   "metadata": {
    "extensions": {
     "jupyter_dashboards": {
      "version": 1,
      "views": {
       "grid_default": {
        "col": 4,
        "height": 4,
        "hidden": false,
        "row": 28,
        "width": 4
       },
       "report_default": {
        "hidden": false
       }
      }
     }
    }
   },
   "source": [
    "## Assessing Data\n",
    "\n",
    "> The datasets are accessed. Their shapes are determined and inspections are made to detect error in quality and tidiness. We only want original ratings (no retweets) that have images. The fact that the rating numerators are greater than the denominators does not need to be cleaned. This [unique rating system](http://knowyourmeme.com/memes/theyre-good-dogs-brent) is a big part of the popularity of WeRateDogs.\n",
    "\n",
    "\n"
   ]
  },
  {
   "cell_type": "code",
   "execution_count": 8,
   "metadata": {},
   "outputs": [
    {
     "data": {
      "text/html": [
       "<div>\n",
       "<style scoped>\n",
       "    .dataframe tbody tr th:only-of-type {\n",
       "        vertical-align: middle;\n",
       "    }\n",
       "\n",
       "    .dataframe tbody tr th {\n",
       "        vertical-align: top;\n",
       "    }\n",
       "\n",
       "    .dataframe thead th {\n",
       "        text-align: right;\n",
       "    }\n",
       "</style>\n",
       "<table border=\"1\" class=\"dataframe\">\n",
       "  <thead>\n",
       "    <tr style=\"text-align: right;\">\n",
       "      <th></th>\n",
       "      <th>tweet_id</th>\n",
       "      <th>in_reply_to_status_id</th>\n",
       "      <th>in_reply_to_user_id</th>\n",
       "      <th>timestamp</th>\n",
       "      <th>source</th>\n",
       "      <th>text</th>\n",
       "      <th>retweeted_status_id</th>\n",
       "      <th>retweeted_status_user_id</th>\n",
       "      <th>retweeted_status_timestamp</th>\n",
       "      <th>expanded_urls</th>\n",
       "      <th>rating_numerator</th>\n",
       "      <th>rating_denominator</th>\n",
       "      <th>name</th>\n",
       "      <th>doggo</th>\n",
       "      <th>floofer</th>\n",
       "      <th>pupper</th>\n",
       "      <th>puppo</th>\n",
       "    </tr>\n",
       "  </thead>\n",
       "  <tbody>\n",
       "    <tr>\n",
       "      <th>1370</th>\n",
       "      <td>702321140488925184</td>\n",
       "      <td>NaN</td>\n",
       "      <td>NaN</td>\n",
       "      <td>2016-02-24 02:36:23 +0000</td>\n",
       "      <td>&lt;a href=\"http://twitter.com/download/iphone\" r...</td>\n",
       "      <td>Please enjoy this picture as much as I did. 12...</td>\n",
       "      <td>NaN</td>\n",
       "      <td>NaN</td>\n",
       "      <td>NaN</td>\n",
       "      <td>https://twitter.com/dog_rates/status/702321140...</td>\n",
       "      <td>12</td>\n",
       "      <td>10</td>\n",
       "      <td>None</td>\n",
       "      <td>None</td>\n",
       "      <td>None</td>\n",
       "      <td>None</td>\n",
       "      <td>None</td>\n",
       "    </tr>\n",
       "    <tr>\n",
       "      <th>982</th>\n",
       "      <td>749403093750648834</td>\n",
       "      <td>NaN</td>\n",
       "      <td>NaN</td>\n",
       "      <td>2016-07-03 00:43:15 +0000</td>\n",
       "      <td>&lt;a href=\"http://twitter.com/download/iphone\" r...</td>\n",
       "      <td>Duuun dun... duuun dun... dunn  dun. dunn dun....</td>\n",
       "      <td>NaN</td>\n",
       "      <td>NaN</td>\n",
       "      <td>NaN</td>\n",
       "      <td>https://twitter.com/dog_rates/status/749403093...</td>\n",
       "      <td>10</td>\n",
       "      <td>10</td>\n",
       "      <td>None</td>\n",
       "      <td>None</td>\n",
       "      <td>None</td>\n",
       "      <td>None</td>\n",
       "      <td>None</td>\n",
       "    </tr>\n",
       "    <tr>\n",
       "      <th>1894</th>\n",
       "      <td>674743008475090944</td>\n",
       "      <td>NaN</td>\n",
       "      <td>NaN</td>\n",
       "      <td>2015-12-10 00:10:43 +0000</td>\n",
       "      <td>&lt;a href=\"http://twitter.com/download/iphone\" r...</td>\n",
       "      <td>This is Sophie. She just saw a spider. 10/10 d...</td>\n",
       "      <td>NaN</td>\n",
       "      <td>NaN</td>\n",
       "      <td>NaN</td>\n",
       "      <td>https://twitter.com/dog_rates/status/674743008...</td>\n",
       "      <td>10</td>\n",
       "      <td>10</td>\n",
       "      <td>Sophie</td>\n",
       "      <td>None</td>\n",
       "      <td>None</td>\n",
       "      <td>None</td>\n",
       "      <td>None</td>\n",
       "    </tr>\n",
       "    <tr>\n",
       "      <th>806</th>\n",
       "      <td>772102971039580160</td>\n",
       "      <td>NaN</td>\n",
       "      <td>NaN</td>\n",
       "      <td>2016-09-03 16:04:27 +0000</td>\n",
       "      <td>&lt;a href=\"http://twitter.com/download/iphone\" r...</td>\n",
       "      <td>This is Penny. She's an OU cheerleader. About ...</td>\n",
       "      <td>NaN</td>\n",
       "      <td>NaN</td>\n",
       "      <td>NaN</td>\n",
       "      <td>https://twitter.com/dog_rates/status/772102971...</td>\n",
       "      <td>11</td>\n",
       "      <td>10</td>\n",
       "      <td>Penny</td>\n",
       "      <td>None</td>\n",
       "      <td>None</td>\n",
       "      <td>None</td>\n",
       "      <td>None</td>\n",
       "    </tr>\n",
       "    <tr>\n",
       "      <th>1696</th>\n",
       "      <td>681242418453299201</td>\n",
       "      <td>NaN</td>\n",
       "      <td>NaN</td>\n",
       "      <td>2015-12-27 22:37:04 +0000</td>\n",
       "      <td>&lt;a href=\"http://twitter.com/download/iphone\" r...</td>\n",
       "      <td>This is Champ. He's being sacrificed to the Az...</td>\n",
       "      <td>NaN</td>\n",
       "      <td>NaN</td>\n",
       "      <td>NaN</td>\n",
       "      <td>https://twitter.com/dog_rates/status/681242418...</td>\n",
       "      <td>10</td>\n",
       "      <td>10</td>\n",
       "      <td>Champ</td>\n",
       "      <td>None</td>\n",
       "      <td>None</td>\n",
       "      <td>None</td>\n",
       "      <td>None</td>\n",
       "    </tr>\n",
       "    <tr>\n",
       "      <th>1710</th>\n",
       "      <td>680583894916304897</td>\n",
       "      <td>NaN</td>\n",
       "      <td>NaN</td>\n",
       "      <td>2015-12-26 03:00:19 +0000</td>\n",
       "      <td>&lt;a href=\"http://twitter.com/download/iphone\" r...</td>\n",
       "      <td>This is Penny. Her tennis ball slowly rolled d...</td>\n",
       "      <td>NaN</td>\n",
       "      <td>NaN</td>\n",
       "      <td>NaN</td>\n",
       "      <td>https://twitter.com/dog_rates/status/680583894...</td>\n",
       "      <td>8</td>\n",
       "      <td>10</td>\n",
       "      <td>Penny</td>\n",
       "      <td>None</td>\n",
       "      <td>None</td>\n",
       "      <td>None</td>\n",
       "      <td>None</td>\n",
       "    </tr>\n",
       "    <tr>\n",
       "      <th>1019</th>\n",
       "      <td>746790600704425984</td>\n",
       "      <td>NaN</td>\n",
       "      <td>NaN</td>\n",
       "      <td>2016-06-25 19:42:08 +0000</td>\n",
       "      <td>&lt;a href=\"http://twitter.com/download/iphone\" r...</td>\n",
       "      <td>When you just can't resist... 10/10 topnotch t...</td>\n",
       "      <td>NaN</td>\n",
       "      <td>NaN</td>\n",
       "      <td>NaN</td>\n",
       "      <td>https://twitter.com/dog_rates/status/746790600...</td>\n",
       "      <td>10</td>\n",
       "      <td>10</td>\n",
       "      <td>None</td>\n",
       "      <td>None</td>\n",
       "      <td>None</td>\n",
       "      <td>None</td>\n",
       "      <td>None</td>\n",
       "    </tr>\n",
       "    <tr>\n",
       "      <th>1146</th>\n",
       "      <td>727155742655025152</td>\n",
       "      <td>NaN</td>\n",
       "      <td>NaN</td>\n",
       "      <td>2016-05-02 15:20:13 +0000</td>\n",
       "      <td>&lt;a href=\"http://vine.co\" rel=\"nofollow\"&gt;Vine -...</td>\n",
       "      <td>When you're trying to enjoy yourself but end u...</td>\n",
       "      <td>NaN</td>\n",
       "      <td>NaN</td>\n",
       "      <td>NaN</td>\n",
       "      <td>https://vine.co/v/ixa1ejbXiM7</td>\n",
       "      <td>11</td>\n",
       "      <td>10</td>\n",
       "      <td>None</td>\n",
       "      <td>None</td>\n",
       "      <td>None</td>\n",
       "      <td>None</td>\n",
       "      <td>None</td>\n",
       "    </tr>\n",
       "    <tr>\n",
       "      <th>534</th>\n",
       "      <td>807106840509214720</td>\n",
       "      <td>NaN</td>\n",
       "      <td>NaN</td>\n",
       "      <td>2016-12-09 06:17:20 +0000</td>\n",
       "      <td>&lt;a href=\"http://twitter.com/download/iphone\" r...</td>\n",
       "      <td>This is Stephan. He just wants to help. 13/10 ...</td>\n",
       "      <td>NaN</td>\n",
       "      <td>NaN</td>\n",
       "      <td>NaN</td>\n",
       "      <td>https://twitter.com/dog_rates/status/807106840...</td>\n",
       "      <td>13</td>\n",
       "      <td>10</td>\n",
       "      <td>Stephan</td>\n",
       "      <td>None</td>\n",
       "      <td>None</td>\n",
       "      <td>None</td>\n",
       "      <td>None</td>\n",
       "    </tr>\n",
       "    <tr>\n",
       "      <th>1279</th>\n",
       "      <td>708845821941387268</td>\n",
       "      <td>NaN</td>\n",
       "      <td>NaN</td>\n",
       "      <td>2016-03-13 02:43:08 +0000</td>\n",
       "      <td>&lt;a href=\"http://twitter.com/download/iphone\" r...</td>\n",
       "      <td>Here's a pupper with magic eyes. Not wearing a...</td>\n",
       "      <td>NaN</td>\n",
       "      <td>NaN</td>\n",
       "      <td>NaN</td>\n",
       "      <td>https://twitter.com/dog_rates/status/708845821...</td>\n",
       "      <td>9</td>\n",
       "      <td>10</td>\n",
       "      <td>None</td>\n",
       "      <td>None</td>\n",
       "      <td>None</td>\n",
       "      <td>pupper</td>\n",
       "      <td>None</td>\n",
       "    </tr>\n",
       "  </tbody>\n",
       "</table>\n",
       "</div>"
      ],
      "text/plain": [
       "                tweet_id  in_reply_to_status_id  in_reply_to_user_id  \\\n",
       "1370  702321140488925184                    NaN                  NaN   \n",
       "982   749403093750648834                    NaN                  NaN   \n",
       "1894  674743008475090944                    NaN                  NaN   \n",
       "806   772102971039580160                    NaN                  NaN   \n",
       "1696  681242418453299201                    NaN                  NaN   \n",
       "1710  680583894916304897                    NaN                  NaN   \n",
       "1019  746790600704425984                    NaN                  NaN   \n",
       "1146  727155742655025152                    NaN                  NaN   \n",
       "534   807106840509214720                    NaN                  NaN   \n",
       "1279  708845821941387268                    NaN                  NaN   \n",
       "\n",
       "                      timestamp  \\\n",
       "1370  2016-02-24 02:36:23 +0000   \n",
       "982   2016-07-03 00:43:15 +0000   \n",
       "1894  2015-12-10 00:10:43 +0000   \n",
       "806   2016-09-03 16:04:27 +0000   \n",
       "1696  2015-12-27 22:37:04 +0000   \n",
       "1710  2015-12-26 03:00:19 +0000   \n",
       "1019  2016-06-25 19:42:08 +0000   \n",
       "1146  2016-05-02 15:20:13 +0000   \n",
       "534   2016-12-09 06:17:20 +0000   \n",
       "1279  2016-03-13 02:43:08 +0000   \n",
       "\n",
       "                                                 source  \\\n",
       "1370  <a href=\"http://twitter.com/download/iphone\" r...   \n",
       "982   <a href=\"http://twitter.com/download/iphone\" r...   \n",
       "1894  <a href=\"http://twitter.com/download/iphone\" r...   \n",
       "806   <a href=\"http://twitter.com/download/iphone\" r...   \n",
       "1696  <a href=\"http://twitter.com/download/iphone\" r...   \n",
       "1710  <a href=\"http://twitter.com/download/iphone\" r...   \n",
       "1019  <a href=\"http://twitter.com/download/iphone\" r...   \n",
       "1146  <a href=\"http://vine.co\" rel=\"nofollow\">Vine -...   \n",
       "534   <a href=\"http://twitter.com/download/iphone\" r...   \n",
       "1279  <a href=\"http://twitter.com/download/iphone\" r...   \n",
       "\n",
       "                                                   text  retweeted_status_id  \\\n",
       "1370  Please enjoy this picture as much as I did. 12...                  NaN   \n",
       "982   Duuun dun... duuun dun... dunn  dun. dunn dun....                  NaN   \n",
       "1894  This is Sophie. She just saw a spider. 10/10 d...                  NaN   \n",
       "806   This is Penny. She's an OU cheerleader. About ...                  NaN   \n",
       "1696  This is Champ. He's being sacrificed to the Az...                  NaN   \n",
       "1710  This is Penny. Her tennis ball slowly rolled d...                  NaN   \n",
       "1019  When you just can't resist... 10/10 topnotch t...                  NaN   \n",
       "1146  When you're trying to enjoy yourself but end u...                  NaN   \n",
       "534   This is Stephan. He just wants to help. 13/10 ...                  NaN   \n",
       "1279  Here's a pupper with magic eyes. Not wearing a...                  NaN   \n",
       "\n",
       "      retweeted_status_user_id retweeted_status_timestamp  \\\n",
       "1370                       NaN                        NaN   \n",
       "982                        NaN                        NaN   \n",
       "1894                       NaN                        NaN   \n",
       "806                        NaN                        NaN   \n",
       "1696                       NaN                        NaN   \n",
       "1710                       NaN                        NaN   \n",
       "1019                       NaN                        NaN   \n",
       "1146                       NaN                        NaN   \n",
       "534                        NaN                        NaN   \n",
       "1279                       NaN                        NaN   \n",
       "\n",
       "                                          expanded_urls  rating_numerator  \\\n",
       "1370  https://twitter.com/dog_rates/status/702321140...                12   \n",
       "982   https://twitter.com/dog_rates/status/749403093...                10   \n",
       "1894  https://twitter.com/dog_rates/status/674743008...                10   \n",
       "806   https://twitter.com/dog_rates/status/772102971...                11   \n",
       "1696  https://twitter.com/dog_rates/status/681242418...                10   \n",
       "1710  https://twitter.com/dog_rates/status/680583894...                 8   \n",
       "1019  https://twitter.com/dog_rates/status/746790600...                10   \n",
       "1146                      https://vine.co/v/ixa1ejbXiM7                11   \n",
       "534   https://twitter.com/dog_rates/status/807106840...                13   \n",
       "1279  https://twitter.com/dog_rates/status/708845821...                 9   \n",
       "\n",
       "      rating_denominator     name doggo floofer  pupper puppo  \n",
       "1370                  10     None  None    None    None  None  \n",
       "982                   10     None  None    None    None  None  \n",
       "1894                  10   Sophie  None    None    None  None  \n",
       "806                   10    Penny  None    None    None  None  \n",
       "1696                  10    Champ  None    None    None  None  \n",
       "1710                  10    Penny  None    None    None  None  \n",
       "1019                  10     None  None    None    None  None  \n",
       "1146                  10     None  None    None    None  None  \n",
       "534                   10  Stephan  None    None    None  None  \n",
       "1279                  10     None  None    None  pupper  None  "
      ]
     },
     "execution_count": 8,
     "metadata": {},
     "output_type": "execute_result"
    }
   ],
   "source": [
    "# Inspect twitter_archive Dataset by visual assessment\n",
    "\n",
    "df_twitter_archive.sample(10)"
   ]
  },
  {
   "cell_type": "code",
   "execution_count": 9,
   "metadata": {},
   "outputs": [
    {
     "data": {
      "text/html": [
       "<div>\n",
       "<style scoped>\n",
       "    .dataframe tbody tr th:only-of-type {\n",
       "        vertical-align: middle;\n",
       "    }\n",
       "\n",
       "    .dataframe tbody tr th {\n",
       "        vertical-align: top;\n",
       "    }\n",
       "\n",
       "    .dataframe thead th {\n",
       "        text-align: right;\n",
       "    }\n",
       "</style>\n",
       "<table border=\"1\" class=\"dataframe\">\n",
       "  <thead>\n",
       "    <tr style=\"text-align: right;\">\n",
       "      <th></th>\n",
       "      <th>tweet_id</th>\n",
       "      <th>jpg_url</th>\n",
       "      <th>img_num</th>\n",
       "      <th>p1</th>\n",
       "      <th>p1_conf</th>\n",
       "      <th>p1_dog</th>\n",
       "      <th>p2</th>\n",
       "      <th>p2_conf</th>\n",
       "      <th>p2_dog</th>\n",
       "      <th>p3</th>\n",
       "      <th>p3_conf</th>\n",
       "      <th>p3_dog</th>\n",
       "    </tr>\n",
       "  </thead>\n",
       "  <tbody>\n",
       "    <tr>\n",
       "      <th>942</th>\n",
       "      <td>704113298707505153</td>\n",
       "      <td>https://pbs.twimg.com/media/CcWDTerUAAALORn.jpg</td>\n",
       "      <td>2</td>\n",
       "      <td>otter</td>\n",
       "      <td>0.945537</td>\n",
       "      <td>False</td>\n",
       "      <td>mink</td>\n",
       "      <td>0.018231</td>\n",
       "      <td>False</td>\n",
       "      <td>sea_lion</td>\n",
       "      <td>0.015861</td>\n",
       "      <td>False</td>\n",
       "    </tr>\n",
       "    <tr>\n",
       "      <th>1157</th>\n",
       "      <td>733482008106668032</td>\n",
       "      <td>https://pbs.twimg.com/media/Ci3Z_idUkAA8RUh.jpg</td>\n",
       "      <td>1</td>\n",
       "      <td>French_bulldog</td>\n",
       "      <td>0.619382</td>\n",
       "      <td>True</td>\n",
       "      <td>computer_keyboard</td>\n",
       "      <td>0.142274</td>\n",
       "      <td>False</td>\n",
       "      <td>mouse</td>\n",
       "      <td>0.058505</td>\n",
       "      <td>False</td>\n",
       "    </tr>\n",
       "    <tr>\n",
       "      <th>544</th>\n",
       "      <td>677301033169788928</td>\n",
       "      <td>https://pbs.twimg.com/media/CWZBsjPWsAAZFFl.jpg</td>\n",
       "      <td>1</td>\n",
       "      <td>Japanese_spaniel</td>\n",
       "      <td>0.661178</td>\n",
       "      <td>True</td>\n",
       "      <td>Pekinese</td>\n",
       "      <td>0.150119</td>\n",
       "      <td>True</td>\n",
       "      <td>Chihuahua</td>\n",
       "      <td>0.119720</td>\n",
       "      <td>True</td>\n",
       "    </tr>\n",
       "    <tr>\n",
       "      <th>2056</th>\n",
       "      <td>888554962724278272</td>\n",
       "      <td>https://pbs.twimg.com/media/DFTH_O-UQAACu20.jpg</td>\n",
       "      <td>3</td>\n",
       "      <td>Siberian_husky</td>\n",
       "      <td>0.700377</td>\n",
       "      <td>True</td>\n",
       "      <td>Eskimo_dog</td>\n",
       "      <td>0.166511</td>\n",
       "      <td>True</td>\n",
       "      <td>malamute</td>\n",
       "      <td>0.111411</td>\n",
       "      <td>True</td>\n",
       "    </tr>\n",
       "    <tr>\n",
       "      <th>1452</th>\n",
       "      <td>776813020089548800</td>\n",
       "      <td>https://pbs.twimg.com/media/CsfLUDbXEAAu0VF.jpg</td>\n",
       "      <td>1</td>\n",
       "      <td>toy_poodle</td>\n",
       "      <td>0.516610</td>\n",
       "      <td>True</td>\n",
       "      <td>miniature_poodle</td>\n",
       "      <td>0.255033</td>\n",
       "      <td>True</td>\n",
       "      <td>standard_poodle</td>\n",
       "      <td>0.168989</td>\n",
       "      <td>True</td>\n",
       "    </tr>\n",
       "    <tr>\n",
       "      <th>290</th>\n",
       "      <td>671166507850801152</td>\n",
       "      <td>https://pbs.twimg.com/media/CVB2TnWUYAA2pAU.jpg</td>\n",
       "      <td>1</td>\n",
       "      <td>refrigerator</td>\n",
       "      <td>0.829772</td>\n",
       "      <td>False</td>\n",
       "      <td>toilet_seat</td>\n",
       "      <td>0.030083</td>\n",
       "      <td>False</td>\n",
       "      <td>shower_curtain</td>\n",
       "      <td>0.015461</td>\n",
       "      <td>False</td>\n",
       "    </tr>\n",
       "    <tr>\n",
       "      <th>1027</th>\n",
       "      <td>710844581445812225</td>\n",
       "      <td>https://pbs.twimg.com/media/Cd1tYGmXIAAoW5b.jpg</td>\n",
       "      <td>1</td>\n",
       "      <td>dingo</td>\n",
       "      <td>0.536593</td>\n",
       "      <td>False</td>\n",
       "      <td>Pembroke</td>\n",
       "      <td>0.200407</td>\n",
       "      <td>True</td>\n",
       "      <td>basenji</td>\n",
       "      <td>0.060734</td>\n",
       "      <td>True</td>\n",
       "    </tr>\n",
       "    <tr>\n",
       "      <th>1747</th>\n",
       "      <td>823322678127919110</td>\n",
       "      <td>https://pbs.twimg.com/media/C20HmaKWgAQ6-6X.jpg</td>\n",
       "      <td>2</td>\n",
       "      <td>cowboy_boot</td>\n",
       "      <td>0.990253</td>\n",
       "      <td>False</td>\n",
       "      <td>Chihuahua</td>\n",
       "      <td>0.001836</td>\n",
       "      <td>True</td>\n",
       "      <td>papillon</td>\n",
       "      <td>0.001274</td>\n",
       "      <td>True</td>\n",
       "    </tr>\n",
       "    <tr>\n",
       "      <th>1849</th>\n",
       "      <td>839990271299457024</td>\n",
       "      <td>https://pbs.twimg.com/media/C6g-sX-VsAAHfJ9.jpg</td>\n",
       "      <td>2</td>\n",
       "      <td>Staffordshire_bullterrier</td>\n",
       "      <td>0.604938</td>\n",
       "      <td>True</td>\n",
       "      <td>American_Staffordshire_terrier</td>\n",
       "      <td>0.311540</td>\n",
       "      <td>True</td>\n",
       "      <td>Boston_bull</td>\n",
       "      <td>0.037159</td>\n",
       "      <td>True</td>\n",
       "    </tr>\n",
       "    <tr>\n",
       "      <th>861</th>\n",
       "      <td>697242256848379904</td>\n",
       "      <td>https://pbs.twimg.com/media/Ca0aIR9WcAAHiPy.jpg</td>\n",
       "      <td>1</td>\n",
       "      <td>grey_fox</td>\n",
       "      <td>0.236031</td>\n",
       "      <td>False</td>\n",
       "      <td>Siamese_cat</td>\n",
       "      <td>0.165791</td>\n",
       "      <td>False</td>\n",
       "      <td>Eskimo_dog</td>\n",
       "      <td>0.063533</td>\n",
       "      <td>True</td>\n",
       "    </tr>\n",
       "  </tbody>\n",
       "</table>\n",
       "</div>"
      ],
      "text/plain": [
       "                tweet_id                                          jpg_url  \\\n",
       "942   704113298707505153  https://pbs.twimg.com/media/CcWDTerUAAALORn.jpg   \n",
       "1157  733482008106668032  https://pbs.twimg.com/media/Ci3Z_idUkAA8RUh.jpg   \n",
       "544   677301033169788928  https://pbs.twimg.com/media/CWZBsjPWsAAZFFl.jpg   \n",
       "2056  888554962724278272  https://pbs.twimg.com/media/DFTH_O-UQAACu20.jpg   \n",
       "1452  776813020089548800  https://pbs.twimg.com/media/CsfLUDbXEAAu0VF.jpg   \n",
       "290   671166507850801152  https://pbs.twimg.com/media/CVB2TnWUYAA2pAU.jpg   \n",
       "1027  710844581445812225  https://pbs.twimg.com/media/Cd1tYGmXIAAoW5b.jpg   \n",
       "1747  823322678127919110  https://pbs.twimg.com/media/C20HmaKWgAQ6-6X.jpg   \n",
       "1849  839990271299457024  https://pbs.twimg.com/media/C6g-sX-VsAAHfJ9.jpg   \n",
       "861   697242256848379904  https://pbs.twimg.com/media/Ca0aIR9WcAAHiPy.jpg   \n",
       "\n",
       "      img_num                         p1   p1_conf  p1_dog  \\\n",
       "942         2                      otter  0.945537   False   \n",
       "1157        1             French_bulldog  0.619382    True   \n",
       "544         1           Japanese_spaniel  0.661178    True   \n",
       "2056        3             Siberian_husky  0.700377    True   \n",
       "1452        1                 toy_poodle  0.516610    True   \n",
       "290         1               refrigerator  0.829772   False   \n",
       "1027        1                      dingo  0.536593   False   \n",
       "1747        2                cowboy_boot  0.990253   False   \n",
       "1849        2  Staffordshire_bullterrier  0.604938    True   \n",
       "861         1                   grey_fox  0.236031   False   \n",
       "\n",
       "                                  p2   p2_conf  p2_dog               p3  \\\n",
       "942                             mink  0.018231   False         sea_lion   \n",
       "1157               computer_keyboard  0.142274   False            mouse   \n",
       "544                         Pekinese  0.150119    True        Chihuahua   \n",
       "2056                      Eskimo_dog  0.166511    True         malamute   \n",
       "1452                miniature_poodle  0.255033    True  standard_poodle   \n",
       "290                      toilet_seat  0.030083   False   shower_curtain   \n",
       "1027                        Pembroke  0.200407    True          basenji   \n",
       "1747                       Chihuahua  0.001836    True         papillon   \n",
       "1849  American_Staffordshire_terrier  0.311540    True      Boston_bull   \n",
       "861                      Siamese_cat  0.165791   False       Eskimo_dog   \n",
       "\n",
       "       p3_conf  p3_dog  \n",
       "942   0.015861   False  \n",
       "1157  0.058505   False  \n",
       "544   0.119720    True  \n",
       "2056  0.111411    True  \n",
       "1452  0.168989    True  \n",
       "290   0.015461   False  \n",
       "1027  0.060734    True  \n",
       "1747  0.001274    True  \n",
       "1849  0.037159    True  \n",
       "861   0.063533    True  "
      ]
     },
     "execution_count": 9,
     "metadata": {},
     "output_type": "execute_result"
    }
   ],
   "source": [
    "# Inspect image_prediction Dataset by visual assessment\n",
    "\n",
    "df_images.sample(10)"
   ]
  },
  {
   "cell_type": "code",
   "execution_count": 10,
   "metadata": {},
   "outputs": [
    {
     "data": {
      "text/html": [
       "<div>\n",
       "<style scoped>\n",
       "    .dataframe tbody tr th:only-of-type {\n",
       "        vertical-align: middle;\n",
       "    }\n",
       "\n",
       "    .dataframe tbody tr th {\n",
       "        vertical-align: top;\n",
       "    }\n",
       "\n",
       "    .dataframe thead th {\n",
       "        text-align: right;\n",
       "    }\n",
       "</style>\n",
       "<table border=\"1\" class=\"dataframe\">\n",
       "  <thead>\n",
       "    <tr style=\"text-align: right;\">\n",
       "      <th></th>\n",
       "      <th>id</th>\n",
       "      <th>retweet_count</th>\n",
       "      <th>favorite_count</th>\n",
       "    </tr>\n",
       "  </thead>\n",
       "  <tbody>\n",
       "    <tr>\n",
       "      <th>1372</th>\n",
       "      <td>701952816642965504</td>\n",
       "      <td>1149</td>\n",
       "      <td>4167</td>\n",
       "    </tr>\n",
       "    <tr>\n",
       "      <th>45</th>\n",
       "      <td>883360690899218434</td>\n",
       "      <td>3825</td>\n",
       "      <td>22986</td>\n",
       "    </tr>\n",
       "    <tr>\n",
       "      <th>1092</th>\n",
       "      <td>736736130620620800</td>\n",
       "      <td>1972</td>\n",
       "      <td>4736</td>\n",
       "    </tr>\n",
       "    <tr>\n",
       "      <th>1436</th>\n",
       "      <td>696900204696625153</td>\n",
       "      <td>1156</td>\n",
       "      <td>3492</td>\n",
       "    </tr>\n",
       "    <tr>\n",
       "      <th>320</th>\n",
       "      <td>834209720923721728</td>\n",
       "      <td>5476</td>\n",
       "      <td>22594</td>\n",
       "    </tr>\n",
       "    <tr>\n",
       "      <th>1726</th>\n",
       "      <td>679872969355714560</td>\n",
       "      <td>749</td>\n",
       "      <td>2365</td>\n",
       "    </tr>\n",
       "    <tr>\n",
       "      <th>744</th>\n",
       "      <td>780092040432480260</td>\n",
       "      <td>2655</td>\n",
       "      <td>0</td>\n",
       "    </tr>\n",
       "    <tr>\n",
       "      <th>1178</th>\n",
       "      <td>719339463458033665</td>\n",
       "      <td>1403</td>\n",
       "      <td>4822</td>\n",
       "    </tr>\n",
       "    <tr>\n",
       "      <th>1580</th>\n",
       "      <td>687109925361856513</td>\n",
       "      <td>2803</td>\n",
       "      <td>6370</td>\n",
       "    </tr>\n",
       "    <tr>\n",
       "      <th>1394</th>\n",
       "      <td>699788877217865730</td>\n",
       "      <td>557</td>\n",
       "      <td>2458</td>\n",
       "    </tr>\n",
       "  </tbody>\n",
       "</table>\n",
       "</div>"
      ],
      "text/plain": [
       "                      id  retweet_count  favorite_count\n",
       "1372  701952816642965504           1149            4167\n",
       "45    883360690899218434           3825           22986\n",
       "1092  736736130620620800           1972            4736\n",
       "1436  696900204696625153           1156            3492\n",
       "320   834209720923721728           5476           22594\n",
       "1726  679872969355714560            749            2365\n",
       "744   780092040432480260           2655               0\n",
       "1178  719339463458033665           1403            4822\n",
       "1580  687109925361856513           2803            6370\n",
       "1394  699788877217865730            557            2458"
      ]
     },
     "execution_count": 10,
     "metadata": {},
     "output_type": "execute_result"
    }
   ],
   "source": [
    "# Inspect tweet Dataset by visual assessment\n",
    "\n",
    "df_tweets.sample(10)"
   ]
  },
  {
   "cell_type": "code",
   "execution_count": 11,
   "metadata": {},
   "outputs": [
    {
     "name": "stdout",
     "output_type": "stream",
     "text": [
      "<class 'pandas.core.frame.DataFrame'>\n",
      "RangeIndex: 2356 entries, 0 to 2355\n",
      "Data columns (total 17 columns):\n",
      " #   Column                      Non-Null Count  Dtype  \n",
      "---  ------                      --------------  -----  \n",
      " 0   tweet_id                    2356 non-null   int64  \n",
      " 1   in_reply_to_status_id       78 non-null     float64\n",
      " 2   in_reply_to_user_id         78 non-null     float64\n",
      " 3   timestamp                   2356 non-null   object \n",
      " 4   source                      2356 non-null   object \n",
      " 5   text                        2356 non-null   object \n",
      " 6   retweeted_status_id         181 non-null    float64\n",
      " 7   retweeted_status_user_id    181 non-null    float64\n",
      " 8   retweeted_status_timestamp  181 non-null    object \n",
      " 9   expanded_urls               2297 non-null   object \n",
      " 10  rating_numerator            2356 non-null   int64  \n",
      " 11  rating_denominator          2356 non-null   int64  \n",
      " 12  name                        2356 non-null   object \n",
      " 13  doggo                       2356 non-null   object \n",
      " 14  floofer                     2356 non-null   object \n",
      " 15  pupper                      2356 non-null   object \n",
      " 16  puppo                       2356 non-null   object \n",
      "dtypes: float64(4), int64(3), object(10)\n",
      "memory usage: 313.0+ KB\n"
     ]
    }
   ],
   "source": [
    "df_twitter_archive.info() # Inspect feature attributes"
   ]
  },
  {
   "cell_type": "code",
   "execution_count": 12,
   "metadata": {},
   "outputs": [
    {
     "name": "stdout",
     "output_type": "stream",
     "text": [
      "<class 'pandas.core.frame.DataFrame'>\n",
      "RangeIndex: 2075 entries, 0 to 2074\n",
      "Data columns (total 12 columns):\n",
      " #   Column    Non-Null Count  Dtype  \n",
      "---  ------    --------------  -----  \n",
      " 0   tweet_id  2075 non-null   int64  \n",
      " 1   jpg_url   2075 non-null   object \n",
      " 2   img_num   2075 non-null   int64  \n",
      " 3   p1        2075 non-null   object \n",
      " 4   p1_conf   2075 non-null   float64\n",
      " 5   p1_dog    2075 non-null   bool   \n",
      " 6   p2        2075 non-null   object \n",
      " 7   p2_conf   2075 non-null   float64\n",
      " 8   p2_dog    2075 non-null   bool   \n",
      " 9   p3        2075 non-null   object \n",
      " 10  p3_conf   2075 non-null   float64\n",
      " 11  p3_dog    2075 non-null   bool   \n",
      "dtypes: bool(3), float64(3), int64(2), object(4)\n",
      "memory usage: 152.1+ KB\n"
     ]
    }
   ],
   "source": [
    "df_images.info()  # Inspect feature attributes"
   ]
  },
  {
   "cell_type": "code",
   "execution_count": 13,
   "metadata": {},
   "outputs": [
    {
     "name": "stdout",
     "output_type": "stream",
     "text": [
      "<class 'pandas.core.frame.DataFrame'>\n",
      "RangeIndex: 2354 entries, 0 to 2353\n",
      "Data columns (total 3 columns):\n",
      " #   Column          Non-Null Count  Dtype\n",
      "---  ------          --------------  -----\n",
      " 0   id              2354 non-null   int64\n",
      " 1   retweet_count   2354 non-null   int64\n",
      " 2   favorite_count  2354 non-null   int64\n",
      "dtypes: int64(3)\n",
      "memory usage: 55.3 KB\n"
     ]
    }
   ],
   "source": [
    "df_tweets.info()  # Inspect feature attributes"
   ]
  },
  {
   "cell_type": "code",
   "execution_count": 14,
   "metadata": {},
   "outputs": [
    {
     "data": {
      "text/html": [
       "<div>\n",
       "<style scoped>\n",
       "    .dataframe tbody tr th:only-of-type {\n",
       "        vertical-align: middle;\n",
       "    }\n",
       "\n",
       "    .dataframe tbody tr th {\n",
       "        vertical-align: top;\n",
       "    }\n",
       "\n",
       "    .dataframe thead th {\n",
       "        text-align: right;\n",
       "    }\n",
       "</style>\n",
       "<table border=\"1\" class=\"dataframe\">\n",
       "  <thead>\n",
       "    <tr style=\"text-align: right;\">\n",
       "      <th></th>\n",
       "      <th>tweet_id</th>\n",
       "      <th>img_num</th>\n",
       "      <th>p1_conf</th>\n",
       "      <th>p2_conf</th>\n",
       "      <th>p3_conf</th>\n",
       "    </tr>\n",
       "  </thead>\n",
       "  <tbody>\n",
       "    <tr>\n",
       "      <th>count</th>\n",
       "      <td>2.075000e+03</td>\n",
       "      <td>2075.000000</td>\n",
       "      <td>2075.000000</td>\n",
       "      <td>2.075000e+03</td>\n",
       "      <td>2.075000e+03</td>\n",
       "    </tr>\n",
       "    <tr>\n",
       "      <th>mean</th>\n",
       "      <td>7.384514e+17</td>\n",
       "      <td>1.203855</td>\n",
       "      <td>0.594548</td>\n",
       "      <td>1.345886e-01</td>\n",
       "      <td>6.032417e-02</td>\n",
       "    </tr>\n",
       "    <tr>\n",
       "      <th>std</th>\n",
       "      <td>6.785203e+16</td>\n",
       "      <td>0.561875</td>\n",
       "      <td>0.271174</td>\n",
       "      <td>1.006657e-01</td>\n",
       "      <td>5.090593e-02</td>\n",
       "    </tr>\n",
       "    <tr>\n",
       "      <th>min</th>\n",
       "      <td>6.660209e+17</td>\n",
       "      <td>1.000000</td>\n",
       "      <td>0.044333</td>\n",
       "      <td>1.011300e-08</td>\n",
       "      <td>1.740170e-10</td>\n",
       "    </tr>\n",
       "    <tr>\n",
       "      <th>25%</th>\n",
       "      <td>6.764835e+17</td>\n",
       "      <td>1.000000</td>\n",
       "      <td>0.364412</td>\n",
       "      <td>5.388625e-02</td>\n",
       "      <td>1.622240e-02</td>\n",
       "    </tr>\n",
       "    <tr>\n",
       "      <th>50%</th>\n",
       "      <td>7.119988e+17</td>\n",
       "      <td>1.000000</td>\n",
       "      <td>0.588230</td>\n",
       "      <td>1.181810e-01</td>\n",
       "      <td>4.944380e-02</td>\n",
       "    </tr>\n",
       "    <tr>\n",
       "      <th>75%</th>\n",
       "      <td>7.932034e+17</td>\n",
       "      <td>1.000000</td>\n",
       "      <td>0.843855</td>\n",
       "      <td>1.955655e-01</td>\n",
       "      <td>9.180755e-02</td>\n",
       "    </tr>\n",
       "    <tr>\n",
       "      <th>max</th>\n",
       "      <td>8.924206e+17</td>\n",
       "      <td>4.000000</td>\n",
       "      <td>1.000000</td>\n",
       "      <td>4.880140e-01</td>\n",
       "      <td>2.734190e-01</td>\n",
       "    </tr>\n",
       "  </tbody>\n",
       "</table>\n",
       "</div>"
      ],
      "text/plain": [
       "           tweet_id      img_num      p1_conf       p2_conf       p3_conf\n",
       "count  2.075000e+03  2075.000000  2075.000000  2.075000e+03  2.075000e+03\n",
       "mean   7.384514e+17     1.203855     0.594548  1.345886e-01  6.032417e-02\n",
       "std    6.785203e+16     0.561875     0.271174  1.006657e-01  5.090593e-02\n",
       "min    6.660209e+17     1.000000     0.044333  1.011300e-08  1.740170e-10\n",
       "25%    6.764835e+17     1.000000     0.364412  5.388625e-02  1.622240e-02\n",
       "50%    7.119988e+17     1.000000     0.588230  1.181810e-01  4.944380e-02\n",
       "75%    7.932034e+17     1.000000     0.843855  1.955655e-01  9.180755e-02\n",
       "max    8.924206e+17     4.000000     1.000000  4.880140e-01  2.734190e-01"
      ]
     },
     "execution_count": 14,
     "metadata": {},
     "output_type": "execute_result"
    }
   ],
   "source": [
    "df_images.describe()  # Inspect statistical summary of numerical features"
   ]
  },
  {
   "cell_type": "code",
   "execution_count": 15,
   "metadata": {},
   "outputs": [
    {
     "data": {
      "text/html": [
       "<div>\n",
       "<style scoped>\n",
       "    .dataframe tbody tr th:only-of-type {\n",
       "        vertical-align: middle;\n",
       "    }\n",
       "\n",
       "    .dataframe tbody tr th {\n",
       "        vertical-align: top;\n",
       "    }\n",
       "\n",
       "    .dataframe thead th {\n",
       "        text-align: right;\n",
       "    }\n",
       "</style>\n",
       "<table border=\"1\" class=\"dataframe\">\n",
       "  <thead>\n",
       "    <tr style=\"text-align: right;\">\n",
       "      <th></th>\n",
       "      <th>id</th>\n",
       "      <th>retweet_count</th>\n",
       "      <th>favorite_count</th>\n",
       "    </tr>\n",
       "  </thead>\n",
       "  <tbody>\n",
       "    <tr>\n",
       "      <th>count</th>\n",
       "      <td>2.354000e+03</td>\n",
       "      <td>2354.000000</td>\n",
       "      <td>2354.000000</td>\n",
       "    </tr>\n",
       "    <tr>\n",
       "      <th>mean</th>\n",
       "      <td>7.426978e+17</td>\n",
       "      <td>3164.797366</td>\n",
       "      <td>8080.968564</td>\n",
       "    </tr>\n",
       "    <tr>\n",
       "      <th>std</th>\n",
       "      <td>6.852812e+16</td>\n",
       "      <td>5284.770364</td>\n",
       "      <td>11814.771334</td>\n",
       "    </tr>\n",
       "    <tr>\n",
       "      <th>min</th>\n",
       "      <td>6.660209e+17</td>\n",
       "      <td>0.000000</td>\n",
       "      <td>0.000000</td>\n",
       "    </tr>\n",
       "    <tr>\n",
       "      <th>25%</th>\n",
       "      <td>6.783975e+17</td>\n",
       "      <td>624.500000</td>\n",
       "      <td>1415.000000</td>\n",
       "    </tr>\n",
       "    <tr>\n",
       "      <th>50%</th>\n",
       "      <td>7.194596e+17</td>\n",
       "      <td>1473.500000</td>\n",
       "      <td>3603.500000</td>\n",
       "    </tr>\n",
       "    <tr>\n",
       "      <th>75%</th>\n",
       "      <td>7.993058e+17</td>\n",
       "      <td>3652.000000</td>\n",
       "      <td>10122.250000</td>\n",
       "    </tr>\n",
       "    <tr>\n",
       "      <th>max</th>\n",
       "      <td>8.924206e+17</td>\n",
       "      <td>79515.000000</td>\n",
       "      <td>132810.000000</td>\n",
       "    </tr>\n",
       "  </tbody>\n",
       "</table>\n",
       "</div>"
      ],
      "text/plain": [
       "                 id  retweet_count  favorite_count\n",
       "count  2.354000e+03    2354.000000     2354.000000\n",
       "mean   7.426978e+17    3164.797366     8080.968564\n",
       "std    6.852812e+16    5284.770364    11814.771334\n",
       "min    6.660209e+17       0.000000        0.000000\n",
       "25%    6.783975e+17     624.500000     1415.000000\n",
       "50%    7.194596e+17    1473.500000     3603.500000\n",
       "75%    7.993058e+17    3652.000000    10122.250000\n",
       "max    8.924206e+17   79515.000000   132810.000000"
      ]
     },
     "execution_count": 15,
     "metadata": {},
     "output_type": "execute_result"
    }
   ],
   "source": [
    "df_tweets.describe()  # Inspect statistical summary of numerical features"
   ]
  },
  {
   "cell_type": "code",
   "execution_count": 16,
   "metadata": {},
   "outputs": [
    {
     "data": {
      "text/plain": [
       "0"
      ]
     },
     "execution_count": 16,
     "metadata": {},
     "output_type": "execute_result"
    }
   ],
   "source": [
    "df_twitter_archive.duplicated().sum()  # Inspect for the sum of duplicated rows"
   ]
  },
  {
   "cell_type": "code",
   "execution_count": 17,
   "metadata": {},
   "outputs": [
    {
     "data": {
      "text/plain": [
       "0"
      ]
     },
     "execution_count": 17,
     "metadata": {},
     "output_type": "execute_result"
    }
   ],
   "source": [
    "df_images.duplicated().sum()  # Inspect for the sum of duplicated rows"
   ]
  },
  {
   "cell_type": "code",
   "execution_count": 18,
   "metadata": {},
   "outputs": [
    {
     "data": {
      "text/plain": [
       "0"
      ]
     },
     "execution_count": 18,
     "metadata": {},
     "output_type": "execute_result"
    }
   ],
   "source": [
    "df_tweets.duplicated().sum()  # Inspect for the sum of duplicated rows"
   ]
  },
  {
   "cell_type": "code",
   "execution_count": 19,
   "metadata": {},
   "outputs": [
    {
     "data": {
      "text/plain": [
       "tweet_id                         0\n",
       "in_reply_to_status_id         2278\n",
       "in_reply_to_user_id           2278\n",
       "timestamp                        0\n",
       "source                           0\n",
       "text                             0\n",
       "retweeted_status_id           2175\n",
       "retweeted_status_user_id      2175\n",
       "retweeted_status_timestamp    2175\n",
       "expanded_urls                   59\n",
       "rating_numerator                 0\n",
       "rating_denominator               0\n",
       "name                             0\n",
       "doggo                            0\n",
       "floofer                          0\n",
       "pupper                           0\n",
       "puppo                            0\n",
       "dtype: int64"
      ]
     },
     "execution_count": 19,
     "metadata": {},
     "output_type": "execute_result"
    }
   ],
   "source": [
    "df_twitter_archive.isnull().sum()  # Inspect for the sum of Null Values"
   ]
  },
  {
   "cell_type": "code",
   "execution_count": 20,
   "metadata": {},
   "outputs": [
    {
     "data": {
      "text/plain": [
       "12      558\n",
       "11      464\n",
       "10      461\n",
       "13      351\n",
       "9       158\n",
       "8       102\n",
       "7        55\n",
       "14       54\n",
       "5        37\n",
       "6        32\n",
       "3        19\n",
       "4        17\n",
       "2         9\n",
       "1         9\n",
       "75        2\n",
       "15        2\n",
       "420       2\n",
       "0         2\n",
       "80        1\n",
       "144       1\n",
       "17        1\n",
       "26        1\n",
       "20        1\n",
       "121       1\n",
       "143       1\n",
       "44        1\n",
       "60        1\n",
       "45        1\n",
       "50        1\n",
       "99        1\n",
       "204       1\n",
       "1776      1\n",
       "165       1\n",
       "666       1\n",
       "27        1\n",
       "182       1\n",
       "24        1\n",
       "960       1\n",
       "84        1\n",
       "88        1\n",
       "Name: rating_numerator, dtype: int64"
      ]
     },
     "execution_count": 20,
     "metadata": {},
     "output_type": "execute_result"
    }
   ],
   "source": [
    "df_twitter_archive['rating_numerator'].value_counts()  # Get the count of individual rating_numerator"
   ]
  },
  {
   "cell_type": "code",
   "execution_count": 21,
   "metadata": {},
   "outputs": [
    {
     "data": {
      "text/plain": [
       "10     2333\n",
       "11        3\n",
       "50        3\n",
       "20        2\n",
       "80        2\n",
       "70        1\n",
       "7         1\n",
       "15        1\n",
       "150       1\n",
       "170       1\n",
       "0         1\n",
       "90        1\n",
       "40        1\n",
       "130       1\n",
       "110       1\n",
       "16        1\n",
       "120       1\n",
       "2         1\n",
       "Name: rating_denominator, dtype: int64"
      ]
     },
     "execution_count": 21,
     "metadata": {},
     "output_type": "execute_result"
    }
   ],
   "source": [
    "df_twitter_archive['rating_denominator'].value_counts()  # Get the count of individual rating_denominator"
   ]
  },
  {
   "cell_type": "code",
   "execution_count": 22,
   "metadata": {},
   "outputs": [
    {
     "data": {
      "text/plain": [
       "None          745\n",
       "a              55\n",
       "Charlie        12\n",
       "Cooper         11\n",
       "Lucy           11\n",
       "             ... \n",
       "Dex             1\n",
       "Ace             1\n",
       "Tayzie          1\n",
       "Grizzie         1\n",
       "Christoper      1\n",
       "Name: name, Length: 957, dtype: int64"
      ]
     },
     "execution_count": 22,
     "metadata": {},
     "output_type": "execute_result"
    }
   ],
   "source": [
    "df_twitter_archive['name'].value_counts()  # Get the count of individual dog name"
   ]
  },
  {
   "cell_type": "code",
   "execution_count": 23,
   "metadata": {
    "scrolled": true
   },
   "outputs": [
    {
     "data": {
      "text/plain": [
       "doggo  floofer  pupper  puppo\n",
       "None   None     None    None     1976\n",
       "                pupper  None      245\n",
       "doggo  None     None    None       83\n",
       "None   None     None    puppo      29\n",
       "doggo  None     pupper  None       12\n",
       "None   floofer  None    None        9\n",
       "doggo  None     None    puppo       1\n",
       "       floofer  None    None        1\n",
       "dtype: int64"
      ]
     },
     "execution_count": 23,
     "metadata": {},
     "output_type": "execute_result"
    }
   ],
   "source": [
    "# Get the count of the four dog stages\n",
    "\n",
    "df_twitter_archive[['doggo', 'floofer', 'pupper', 'puppo']].value_counts()  "
   ]
  },
  {
   "cell_type": "code",
   "execution_count": 24,
   "metadata": {},
   "outputs": [
    {
     "data": {
      "text/plain": [
       "p1                p2                  p3                \n",
       "malamute          Siberian_husky      Eskimo_dog            17\n",
       "golden_retriever  Labrador_retriever  kuvasz                16\n",
       "Pembroke          Cardigan            Chihuahua             15\n",
       "                                      basenji               11\n",
       "golden_retriever  kuvasz              Labrador_retriever     9\n",
       "                                                            ..\n",
       "Saint_Bernard     Pekinese            Great_Pyrenees         1\n",
       "                  Leonberg            golden_retriever       1\n",
       "                  English_springer    boxer                  1\n",
       "Rottweiler        miniature_pinscher  kelpie                 1\n",
       "zebra             tiger               prairie_chicken        1\n",
       "Length: 1742, dtype: int64"
      ]
     },
     "execution_count": 24,
     "metadata": {},
     "output_type": "execute_result"
    }
   ],
   "source": [
    "# Get the count of the three prediction output\n",
    "\n",
    "df_images[['p1', 'p2', 'p3']].value_counts()"
   ]
  },
  {
   "cell_type": "markdown",
   "metadata": {},
   "source": [
    "### Observations\n",
    "\n",
    "\n",
    "### Tidiness issues\n",
    "\n",
    "`df_twitter_archive`:\n",
    "\n",
    "1. doggo, floofer, pupper and puppo should be in one column not four.\n",
    "\n",
    "`df_images`:\n",
    "\n",
    "2. columns with 'conf' should be renamed with 'confidence'.\n",
    "\n",
    "`df_twitter_archive`, `df_images` & `df_tweets`:\n",
    "\n",
    "3. all three dataframes should be combined into one dataframe."
   ]
  },
  {
   "cell_type": "markdown",
   "metadata": {},
   "source": [
    "### Quality issues\n",
    "\n",
    "`df_twitter_archive`:\n",
    "\n",
    "1. retweeted_status_id, retweeted_status_user_id and retweeted_status_timestamp should be dropped since we are only interested in tweets.\n",
    "\n",
    "2. in_reply_status_id, in_reply_to_user_id and expanded_urls columns contain missing values and will be dropped since they are not needed for the analysis.\n",
    "\n",
    "3. tweet_id should be a string('object') and not an integer('int64').\n",
    "\n",
    "4. timestamp should be 'datetime' not 'string'(object).\n",
    "\n",
    "5. some values in rating_denominator column are not '10'(which is the standard denominator for WeRateDogs).\n",
    "\n",
    "6. some values in rating_numerator column are eqaul to Zero and some are less than 10.\n",
    "\n",
    "7. Null values are represented with none in name column.\n",
    "\n",
    "\n",
    "`df_images`:\n",
    "\n",
    "8. tweet_id should be 'string' not 'int'.\n",
    "\n",
    "9. Names in p1, p2 and p3 columns have some starting with upper letters and others with lower letters.\n",
    "\n",
    "\n",
    "`df_tweets`:\n",
    "\n",
    "10. id column name should be 'tweet_id' not 'id'\n",
    "\n",
    "11. The to-be-named tweet_id should be 'string' not 'int'.\n"
   ]
  },
  {
   "cell_type": "markdown",
   "metadata": {
    "extensions": {
     "jupyter_dashboards": {
      "version": 1,
      "views": {
       "grid_default": {
        "col": 4,
        "height": 4,
        "hidden": false,
        "row": 32,
        "width": 4
       },
       "report_default": {
        "hidden": false
       }
      }
     }
    }
   },
   "source": [
    "## Cleaning Data\n",
    "\n"
   ]
  },
  {
   "cell_type": "markdown",
   "metadata": {},
   "source": [
    "> We must clean all identified issues. Before the actual cleaning, we have to make a copy of the datasets so as to maintain the original nature of the datasets."
   ]
  },
  {
   "cell_type": "code",
   "execution_count": 25,
   "metadata": {},
   "outputs": [],
   "source": [
    "# Make copies of original pieces of data\n",
    "\n",
    "df_twitter_archive_clean= df_twitter_archive.copy()\n",
    "df_images_clean= df_images.copy()\n",
    "df_tweets_clean= df_tweets.copy()"
   ]
  },
  {
   "cell_type": "markdown",
   "metadata": {},
   "source": [
    "> For proper cleaning, its best we address the structural issues (Tidiness) before the content issues (Quality)."
   ]
  },
  {
   "cell_type": "markdown",
   "metadata": {},
   "source": [
    "### Tidiness"
   ]
  },
  {
   "cell_type": "markdown",
   "metadata": {},
   "source": [
    "### Issue #1:  doggo, floofer, pupper and puppo should be in one column not four"
   ]
  },
  {
   "cell_type": "markdown",
   "metadata": {},
   "source": [
    "#### Define: combine all dog stages in a new column and drop all existing columns"
   ]
  },
  {
   "cell_type": "markdown",
   "metadata": {},
   "source": [
    "#### Code"
   ]
  },
  {
   "cell_type": "code",
   "execution_count": 26,
   "metadata": {},
   "outputs": [],
   "source": [
    "# Function that drops rows or columns depending on the axis indication\n",
    "def drop_row_col(dframe, row_col, axis=0):\n",
    "    dframe.drop(row_col, axis=axis, inplace=True) \n",
    "\n",
    "# Function that joins the four columns into one column and gives it a string datatype    \n",
    "def join(x):\n",
    "    return ', '.join(x.dropna().astype(str))"
   ]
  },
  {
   "cell_type": "code",
   "execution_count": 27,
   "metadata": {},
   "outputs": [],
   "source": [
    "# List of the four dog stages\n",
    "dog_stages = ['doggo', 'floofer', 'pupper', 'puppo']\n",
    "\n",
    "# Replace all None values with Null using the replace method and np.nan method\n",
    "df_twitter_archive_clean[dog_stages] = df_twitter_archive_clean[dog_stages].replace('None', np.nan)\n",
    "\n",
    "# Join all four columns into one column\n",
    "df_twitter_archive_clean['dog_stages'] = df_twitter_archive_clean[dog_stages].apply(join, axis=1)\n",
    "\n",
    "# Replace empty values with Null values\n",
    "df_twitter_archive_clean['dog_stages'] = df_twitter_archive_clean['dog_stages'].replace('',np.nan)\n",
    "\n",
    "# Drop the four existing columns representing the dog stages\n",
    "drop_row_col(df_twitter_archive_clean, dog_stages, axis=1)"
   ]
  },
  {
   "cell_type": "markdown",
   "metadata": {},
   "source": [
    "#### Test"
   ]
  },
  {
   "cell_type": "code",
   "execution_count": 28,
   "metadata": {},
   "outputs": [
    {
     "data": {
      "text/plain": [
       "pupper            245\n",
       "doggo              83\n",
       "puppo              29\n",
       "doggo, pupper      12\n",
       "floofer             9\n",
       "doggo, puppo        1\n",
       "doggo, floofer      1\n",
       "Name: dog_stages, dtype: int64"
      ]
     },
     "execution_count": 28,
     "metadata": {},
     "output_type": "execute_result"
    }
   ],
   "source": [
    "# Inspect the newly created column\n",
    "\n",
    "df_twitter_archive_clean['dog_stages'].value_counts()"
   ]
  },
  {
   "cell_type": "code",
   "execution_count": 29,
   "metadata": {},
   "outputs": [
    {
     "data": {
      "text/html": [
       "<div>\n",
       "<style scoped>\n",
       "    .dataframe tbody tr th:only-of-type {\n",
       "        vertical-align: middle;\n",
       "    }\n",
       "\n",
       "    .dataframe tbody tr th {\n",
       "        vertical-align: top;\n",
       "    }\n",
       "\n",
       "    .dataframe thead th {\n",
       "        text-align: right;\n",
       "    }\n",
       "</style>\n",
       "<table border=\"1\" class=\"dataframe\">\n",
       "  <thead>\n",
       "    <tr style=\"text-align: right;\">\n",
       "      <th></th>\n",
       "      <th>tweet_id</th>\n",
       "      <th>in_reply_to_status_id</th>\n",
       "      <th>in_reply_to_user_id</th>\n",
       "      <th>timestamp</th>\n",
       "      <th>source</th>\n",
       "      <th>text</th>\n",
       "      <th>retweeted_status_id</th>\n",
       "      <th>retweeted_status_user_id</th>\n",
       "      <th>retweeted_status_timestamp</th>\n",
       "      <th>expanded_urls</th>\n",
       "      <th>rating_numerator</th>\n",
       "      <th>rating_denominator</th>\n",
       "      <th>name</th>\n",
       "      <th>dog_stages</th>\n",
       "    </tr>\n",
       "  </thead>\n",
       "  <tbody>\n",
       "    <tr>\n",
       "      <th>442</th>\n",
       "      <td>819588359383371776</td>\n",
       "      <td>NaN</td>\n",
       "      <td>NaN</td>\n",
       "      <td>2017-01-12 16:54:26 +0000</td>\n",
       "      <td>&lt;a href=\"http://twitter.com/download/iphone\" r...</td>\n",
       "      <td>This is Jazzy. She just found out that sandwic...</td>\n",
       "      <td>NaN</td>\n",
       "      <td>NaN</td>\n",
       "      <td>NaN</td>\n",
       "      <td>https://twitter.com/dog_rates/status/819588359...</td>\n",
       "      <td>13</td>\n",
       "      <td>10</td>\n",
       "      <td>Jazzy</td>\n",
       "      <td>NaN</td>\n",
       "    </tr>\n",
       "    <tr>\n",
       "      <th>1125</th>\n",
       "      <td>730196704625098752</td>\n",
       "      <td>NaN</td>\n",
       "      <td>NaN</td>\n",
       "      <td>2016-05-11 00:43:55 +0000</td>\n",
       "      <td>&lt;a href=\"http://twitter.com/download/iphone\" r...</td>\n",
       "      <td>This is Charles. He's camera shy. Tail longer ...</td>\n",
       "      <td>NaN</td>\n",
       "      <td>NaN</td>\n",
       "      <td>NaN</td>\n",
       "      <td>https://twitter.com/dog_rates/status/730196704...</td>\n",
       "      <td>6</td>\n",
       "      <td>10</td>\n",
       "      <td>Charles</td>\n",
       "      <td>NaN</td>\n",
       "    </tr>\n",
       "    <tr>\n",
       "      <th>1183</th>\n",
       "      <td>718939241951195136</td>\n",
       "      <td>NaN</td>\n",
       "      <td>NaN</td>\n",
       "      <td>2016-04-09 23:10:47 +0000</td>\n",
       "      <td>&lt;a href=\"http://twitter.com/download/iphone\" r...</td>\n",
       "      <td>This is Otis. Everybody look at Otis. 12/10 wo...</td>\n",
       "      <td>NaN</td>\n",
       "      <td>NaN</td>\n",
       "      <td>NaN</td>\n",
       "      <td>https://twitter.com/dog_rates/status/718939241...</td>\n",
       "      <td>12</td>\n",
       "      <td>10</td>\n",
       "      <td>Otis</td>\n",
       "      <td>NaN</td>\n",
       "    </tr>\n",
       "    <tr>\n",
       "      <th>1386</th>\n",
       "      <td>700518061187723268</td>\n",
       "      <td>NaN</td>\n",
       "      <td>NaN</td>\n",
       "      <td>2016-02-19 03:11:35 +0000</td>\n",
       "      <td>&lt;a href=\"http://twitter.com/download/iphone\" r...</td>\n",
       "      <td>This is Vincent. He's the man your girl is wit...</td>\n",
       "      <td>NaN</td>\n",
       "      <td>NaN</td>\n",
       "      <td>NaN</td>\n",
       "      <td>https://twitter.com/dog_rates/status/700518061...</td>\n",
       "      <td>10</td>\n",
       "      <td>10</td>\n",
       "      <td>Vincent</td>\n",
       "      <td>NaN</td>\n",
       "    </tr>\n",
       "    <tr>\n",
       "      <th>621</th>\n",
       "      <td>796116448414461957</td>\n",
       "      <td>NaN</td>\n",
       "      <td>NaN</td>\n",
       "      <td>2016-11-08 22:25:27 +0000</td>\n",
       "      <td>&lt;a href=\"http://twitter.com/download/iphone\" r...</td>\n",
       "      <td>I didn't believe it at first but now I can see...</td>\n",
       "      <td>NaN</td>\n",
       "      <td>NaN</td>\n",
       "      <td>NaN</td>\n",
       "      <td>https://twitter.com/dog_rates/status/796116448...</td>\n",
       "      <td>11</td>\n",
       "      <td>10</td>\n",
       "      <td>None</td>\n",
       "      <td>NaN</td>\n",
       "    </tr>\n",
       "  </tbody>\n",
       "</table>\n",
       "</div>"
      ],
      "text/plain": [
       "                tweet_id  in_reply_to_status_id  in_reply_to_user_id  \\\n",
       "442   819588359383371776                    NaN                  NaN   \n",
       "1125  730196704625098752                    NaN                  NaN   \n",
       "1183  718939241951195136                    NaN                  NaN   \n",
       "1386  700518061187723268                    NaN                  NaN   \n",
       "621   796116448414461957                    NaN                  NaN   \n",
       "\n",
       "                      timestamp  \\\n",
       "442   2017-01-12 16:54:26 +0000   \n",
       "1125  2016-05-11 00:43:55 +0000   \n",
       "1183  2016-04-09 23:10:47 +0000   \n",
       "1386  2016-02-19 03:11:35 +0000   \n",
       "621   2016-11-08 22:25:27 +0000   \n",
       "\n",
       "                                                 source  \\\n",
       "442   <a href=\"http://twitter.com/download/iphone\" r...   \n",
       "1125  <a href=\"http://twitter.com/download/iphone\" r...   \n",
       "1183  <a href=\"http://twitter.com/download/iphone\" r...   \n",
       "1386  <a href=\"http://twitter.com/download/iphone\" r...   \n",
       "621   <a href=\"http://twitter.com/download/iphone\" r...   \n",
       "\n",
       "                                                   text  retweeted_status_id  \\\n",
       "442   This is Jazzy. She just found out that sandwic...                  NaN   \n",
       "1125  This is Charles. He's camera shy. Tail longer ...                  NaN   \n",
       "1183  This is Otis. Everybody look at Otis. 12/10 wo...                  NaN   \n",
       "1386  This is Vincent. He's the man your girl is wit...                  NaN   \n",
       "621   I didn't believe it at first but now I can see...                  NaN   \n",
       "\n",
       "      retweeted_status_user_id retweeted_status_timestamp  \\\n",
       "442                        NaN                        NaN   \n",
       "1125                       NaN                        NaN   \n",
       "1183                       NaN                        NaN   \n",
       "1386                       NaN                        NaN   \n",
       "621                        NaN                        NaN   \n",
       "\n",
       "                                          expanded_urls  rating_numerator  \\\n",
       "442   https://twitter.com/dog_rates/status/819588359...                13   \n",
       "1125  https://twitter.com/dog_rates/status/730196704...                 6   \n",
       "1183  https://twitter.com/dog_rates/status/718939241...                12   \n",
       "1386  https://twitter.com/dog_rates/status/700518061...                10   \n",
       "621   https://twitter.com/dog_rates/status/796116448...                11   \n",
       "\n",
       "      rating_denominator     name dog_stages  \n",
       "442                   10    Jazzy        NaN  \n",
       "1125                  10  Charles        NaN  \n",
       "1183                  10     Otis        NaN  \n",
       "1386                  10  Vincent        NaN  \n",
       "621                   10     None        NaN  "
      ]
     },
     "execution_count": 29,
     "metadata": {},
     "output_type": "execute_result"
    }
   ],
   "source": [
    "df_twitter_archive_clean.sample(5)  # Inspect random 5 rows of the Dataset by visual assessment"
   ]
  },
  {
   "cell_type": "markdown",
   "metadata": {},
   "source": [
    "### Issue #2:  columns with 'conf' should be renamed with 'confidence' (Quality issue)"
   ]
  },
  {
   "cell_type": "markdown",
   "metadata": {
    "collapsed": true,
    "extensions": {
     "jupyter_dashboards": {
      "version": 1,
      "views": {
       "grid_default": {
        "hidden": true
       },
       "report_default": {
        "hidden": true
       }
      }
     }
    }
   },
   "source": [
    "#### Define: Use rename method to edit column names"
   ]
  },
  {
   "cell_type": "markdown",
   "metadata": {},
   "source": [
    "#### Code"
   ]
  },
  {
   "cell_type": "code",
   "execution_count": 30,
   "metadata": {},
   "outputs": [],
   "source": [
    "# Rename columns having 'conf' to 'confidence'\n",
    "\n",
    "df_images_clean.rename(columns= {'p1_conf' : 'p1_confidence', 'p2_conf' : 'p2_confidence', 'p3_conf' : 'p3_confidence' }, \n",
    "                       inplace= True)"
   ]
  },
  {
   "cell_type": "markdown",
   "metadata": {},
   "source": [
    "#### Test"
   ]
  },
  {
   "cell_type": "code",
   "execution_count": 31,
   "metadata": {},
   "outputs": [
    {
     "data": {
      "text/html": [
       "<div>\n",
       "<style scoped>\n",
       "    .dataframe tbody tr th:only-of-type {\n",
       "        vertical-align: middle;\n",
       "    }\n",
       "\n",
       "    .dataframe tbody tr th {\n",
       "        vertical-align: top;\n",
       "    }\n",
       "\n",
       "    .dataframe thead th {\n",
       "        text-align: right;\n",
       "    }\n",
       "</style>\n",
       "<table border=\"1\" class=\"dataframe\">\n",
       "  <thead>\n",
       "    <tr style=\"text-align: right;\">\n",
       "      <th></th>\n",
       "      <th>tweet_id</th>\n",
       "      <th>jpg_url</th>\n",
       "      <th>img_num</th>\n",
       "      <th>p1</th>\n",
       "      <th>p1_confidence</th>\n",
       "      <th>p1_dog</th>\n",
       "      <th>p2</th>\n",
       "      <th>p2_confidence</th>\n",
       "      <th>p2_dog</th>\n",
       "      <th>p3</th>\n",
       "      <th>p3_confidence</th>\n",
       "      <th>p3_dog</th>\n",
       "    </tr>\n",
       "  </thead>\n",
       "  <tbody>\n",
       "    <tr>\n",
       "      <th>0</th>\n",
       "      <td>666020888022790149</td>\n",
       "      <td>https://pbs.twimg.com/media/CT4udn0WwAA0aMy.jpg</td>\n",
       "      <td>1</td>\n",
       "      <td>Welsh_springer_spaniel</td>\n",
       "      <td>0.465074</td>\n",
       "      <td>True</td>\n",
       "      <td>collie</td>\n",
       "      <td>0.156665</td>\n",
       "      <td>True</td>\n",
       "      <td>Shetland_sheepdog</td>\n",
       "      <td>0.061428</td>\n",
       "      <td>True</td>\n",
       "    </tr>\n",
       "    <tr>\n",
       "      <th>1</th>\n",
       "      <td>666029285002620928</td>\n",
       "      <td>https://pbs.twimg.com/media/CT42GRgUYAA5iDo.jpg</td>\n",
       "      <td>1</td>\n",
       "      <td>redbone</td>\n",
       "      <td>0.506826</td>\n",
       "      <td>True</td>\n",
       "      <td>miniature_pinscher</td>\n",
       "      <td>0.074192</td>\n",
       "      <td>True</td>\n",
       "      <td>Rhodesian_ridgeback</td>\n",
       "      <td>0.072010</td>\n",
       "      <td>True</td>\n",
       "    </tr>\n",
       "  </tbody>\n",
       "</table>\n",
       "</div>"
      ],
      "text/plain": [
       "             tweet_id                                          jpg_url  \\\n",
       "0  666020888022790149  https://pbs.twimg.com/media/CT4udn0WwAA0aMy.jpg   \n",
       "1  666029285002620928  https://pbs.twimg.com/media/CT42GRgUYAA5iDo.jpg   \n",
       "\n",
       "   img_num                      p1  p1_confidence  p1_dog                  p2  \\\n",
       "0        1  Welsh_springer_spaniel       0.465074    True              collie   \n",
       "1        1                 redbone       0.506826    True  miniature_pinscher   \n",
       "\n",
       "   p2_confidence  p2_dog                   p3  p3_confidence  p3_dog  \n",
       "0       0.156665    True    Shetland_sheepdog       0.061428    True  \n",
       "1       0.074192    True  Rhodesian_ridgeback       0.072010    True  "
      ]
     },
     "execution_count": 31,
     "metadata": {},
     "output_type": "execute_result"
    }
   ],
   "source": [
    "df_images_clean.head(2)  # Inspect top 2 rows of the cleaned dataset"
   ]
  },
  {
   "cell_type": "markdown",
   "metadata": {},
   "source": [
    "### Issue #3:  id column name should be 'tweet_id' not 'id'   (Quality Issue)\n",
    "\n",
    "\n",
    "\n",
    "#### Define: Rename the id column in the df_tweet dataset"
   ]
  },
  {
   "cell_type": "markdown",
   "metadata": {},
   "source": [
    "#### Code"
   ]
  },
  {
   "cell_type": "code",
   "execution_count": 32,
   "metadata": {},
   "outputs": [],
   "source": [
    "# Rename 'id' to 'tweet_id'\n",
    "\n",
    "df_tweets_clean.rename(columns= {'id' : 'tweet_id'}, inplace= True)"
   ]
  },
  {
   "cell_type": "markdown",
   "metadata": {},
   "source": [
    "#### Test"
   ]
  },
  {
   "cell_type": "code",
   "execution_count": 33,
   "metadata": {},
   "outputs": [
    {
     "data": {
      "text/html": [
       "<div>\n",
       "<style scoped>\n",
       "    .dataframe tbody tr th:only-of-type {\n",
       "        vertical-align: middle;\n",
       "    }\n",
       "\n",
       "    .dataframe tbody tr th {\n",
       "        vertical-align: top;\n",
       "    }\n",
       "\n",
       "    .dataframe thead th {\n",
       "        text-align: right;\n",
       "    }\n",
       "</style>\n",
       "<table border=\"1\" class=\"dataframe\">\n",
       "  <thead>\n",
       "    <tr style=\"text-align: right;\">\n",
       "      <th></th>\n",
       "      <th>tweet_id</th>\n",
       "      <th>retweet_count</th>\n",
       "      <th>favorite_count</th>\n",
       "    </tr>\n",
       "  </thead>\n",
       "  <tbody>\n",
       "    <tr>\n",
       "      <th>0</th>\n",
       "      <td>892420643555336193</td>\n",
       "      <td>8853</td>\n",
       "      <td>39467</td>\n",
       "    </tr>\n",
       "    <tr>\n",
       "      <th>1</th>\n",
       "      <td>892177421306343426</td>\n",
       "      <td>6514</td>\n",
       "      <td>33819</td>\n",
       "    </tr>\n",
       "  </tbody>\n",
       "</table>\n",
       "</div>"
      ],
      "text/plain": [
       "             tweet_id  retweet_count  favorite_count\n",
       "0  892420643555336193           8853           39467\n",
       "1  892177421306343426           6514           33819"
      ]
     },
     "execution_count": 33,
     "metadata": {},
     "output_type": "execute_result"
    }
   ],
   "source": [
    "df_tweets_clean.head(2)  # Inspect top 2 rows of the cleaned dataset"
   ]
  },
  {
   "cell_type": "markdown",
   "metadata": {},
   "source": [
    "### Issue #4:  All three dataframes should be combined into one dataframe.\n",
    "\n",
    "\n",
    "\n",
    "#### Define: Merge the three datasets using merge method'"
   ]
  },
  {
   "cell_type": "markdown",
   "metadata": {},
   "source": [
    "#### Code"
   ]
  },
  {
   "cell_type": "code",
   "execution_count": 34,
   "metadata": {},
   "outputs": [],
   "source": [
    "# Combine all three datasets into a single master dataset\n",
    "\n",
    "df_weratedogs_archive= pd.merge(df_twitter_archive_clean, df_images_clean, on='tweet_id', how= 'left')\n",
    "df_weratedogs_archive= pd.merge(df_weratedogs_archive, df_tweets_clean, on='tweet_id', how= 'left')"
   ]
  },
  {
   "cell_type": "markdown",
   "metadata": {},
   "source": [
    "#### Test"
   ]
  },
  {
   "cell_type": "code",
   "execution_count": 35,
   "metadata": {},
   "outputs": [
    {
     "data": {
      "text/html": [
       "<div>\n",
       "<style scoped>\n",
       "    .dataframe tbody tr th:only-of-type {\n",
       "        vertical-align: middle;\n",
       "    }\n",
       "\n",
       "    .dataframe tbody tr th {\n",
       "        vertical-align: top;\n",
       "    }\n",
       "\n",
       "    .dataframe thead th {\n",
       "        text-align: right;\n",
       "    }\n",
       "</style>\n",
       "<table border=\"1\" class=\"dataframe\">\n",
       "  <thead>\n",
       "    <tr style=\"text-align: right;\">\n",
       "      <th></th>\n",
       "      <th>tweet_id</th>\n",
       "      <th>in_reply_to_status_id</th>\n",
       "      <th>in_reply_to_user_id</th>\n",
       "      <th>timestamp</th>\n",
       "      <th>source</th>\n",
       "      <th>text</th>\n",
       "      <th>retweeted_status_id</th>\n",
       "      <th>retweeted_status_user_id</th>\n",
       "      <th>retweeted_status_timestamp</th>\n",
       "      <th>expanded_urls</th>\n",
       "      <th>...</th>\n",
       "      <th>p1_confidence</th>\n",
       "      <th>p1_dog</th>\n",
       "      <th>p2</th>\n",
       "      <th>p2_confidence</th>\n",
       "      <th>p2_dog</th>\n",
       "      <th>p3</th>\n",
       "      <th>p3_confidence</th>\n",
       "      <th>p3_dog</th>\n",
       "      <th>retweet_count</th>\n",
       "      <th>favorite_count</th>\n",
       "    </tr>\n",
       "  </thead>\n",
       "  <tbody>\n",
       "    <tr>\n",
       "      <th>731</th>\n",
       "      <td>781655249211752448</td>\n",
       "      <td>NaN</td>\n",
       "      <td>NaN</td>\n",
       "      <td>2016-09-30 00:41:48 +0000</td>\n",
       "      <td>&lt;a href=\"http://vine.co\" rel=\"nofollow\"&gt;Vine -...</td>\n",
       "      <td>This is Combo. The daily struggles of being a ...</td>\n",
       "      <td>NaN</td>\n",
       "      <td>NaN</td>\n",
       "      <td>NaN</td>\n",
       "      <td>https://vine.co/v/5rt6T3qm7hL</td>\n",
       "      <td>...</td>\n",
       "      <td>NaN</td>\n",
       "      <td>NaN</td>\n",
       "      <td>NaN</td>\n",
       "      <td>NaN</td>\n",
       "      <td>NaN</td>\n",
       "      <td>NaN</td>\n",
       "      <td>NaN</td>\n",
       "      <td>NaN</td>\n",
       "      <td>1314.0</td>\n",
       "      <td>4466.0</td>\n",
       "    </tr>\n",
       "    <tr>\n",
       "      <th>791</th>\n",
       "      <td>773704687002451968</td>\n",
       "      <td>NaN</td>\n",
       "      <td>NaN</td>\n",
       "      <td>2016-09-08 02:09:06 +0000</td>\n",
       "      <td>&lt;a href=\"http://twitter.com/download/iphone\" r...</td>\n",
       "      <td>This is Loki. He knows he's adorable. One ear ...</td>\n",
       "      <td>NaN</td>\n",
       "      <td>NaN</td>\n",
       "      <td>NaN</td>\n",
       "      <td>https://twitter.com/dog_rates/status/773704687...</td>\n",
       "      <td>...</td>\n",
       "      <td>0.324251</td>\n",
       "      <td>True</td>\n",
       "      <td>Yorkshire_terrier</td>\n",
       "      <td>0.181210</td>\n",
       "      <td>True</td>\n",
       "      <td>Airedale</td>\n",
       "      <td>0.133436</td>\n",
       "      <td>True</td>\n",
       "      <td>1891.0</td>\n",
       "      <td>7317.0</td>\n",
       "    </tr>\n",
       "    <tr>\n",
       "      <th>1885</th>\n",
       "      <td>674793399141146624</td>\n",
       "      <td>6.717299e+17</td>\n",
       "      <td>4.196984e+09</td>\n",
       "      <td>2015-12-10 03:30:58 +0000</td>\n",
       "      <td>&lt;a href=\"http://twitter.com/download/iphone\" r...</td>\n",
       "      <td>I have found another. 13/10 https://t.co/HwroP...</td>\n",
       "      <td>NaN</td>\n",
       "      <td>NaN</td>\n",
       "      <td>NaN</td>\n",
       "      <td>https://twitter.com/dog_rates/status/674793399...</td>\n",
       "      <td>...</td>\n",
       "      <td>0.119693</td>\n",
       "      <td>True</td>\n",
       "      <td>Afghan_hound</td>\n",
       "      <td>0.072763</td>\n",
       "      <td>True</td>\n",
       "      <td>miniature_schnauzer</td>\n",
       "      <td>0.063786</td>\n",
       "      <td>True</td>\n",
       "      <td>1225.0</td>\n",
       "      <td>2697.0</td>\n",
       "    </tr>\n",
       "    <tr>\n",
       "      <th>2083</th>\n",
       "      <td>670811965569282048</td>\n",
       "      <td>NaN</td>\n",
       "      <td>NaN</td>\n",
       "      <td>2015-11-29 03:50:10 +0000</td>\n",
       "      <td>&lt;a href=\"http://twitter.com/download/iphone\" r...</td>\n",
       "      <td>Meet Maggie. She enjoys her stick in the yard....</td>\n",
       "      <td>NaN</td>\n",
       "      <td>NaN</td>\n",
       "      <td>NaN</td>\n",
       "      <td>https://twitter.com/dog_rates/status/670811965...</td>\n",
       "      <td>...</td>\n",
       "      <td>0.994090</td>\n",
       "      <td>True</td>\n",
       "      <td>Walker_hound</td>\n",
       "      <td>0.003973</td>\n",
       "      <td>True</td>\n",
       "      <td>beagle</td>\n",
       "      <td>0.001406</td>\n",
       "      <td>True</td>\n",
       "      <td>295.0</td>\n",
       "      <td>1202.0</td>\n",
       "    </tr>\n",
       "    <tr>\n",
       "      <th>1258</th>\n",
       "      <td>710283270106132480</td>\n",
       "      <td>NaN</td>\n",
       "      <td>NaN</td>\n",
       "      <td>2016-03-17 01:55:02 +0000</td>\n",
       "      <td>&lt;a href=\"http://twitter.com/download/iphone\" r...</td>\n",
       "      <td>This is Gunner. He's a Figamus Newton. King of...</td>\n",
       "      <td>NaN</td>\n",
       "      <td>NaN</td>\n",
       "      <td>NaN</td>\n",
       "      <td>https://twitter.com/dog_rates/status/710283270...</td>\n",
       "      <td>...</td>\n",
       "      <td>0.932401</td>\n",
       "      <td>True</td>\n",
       "      <td>Lhasa</td>\n",
       "      <td>0.030806</td>\n",
       "      <td>True</td>\n",
       "      <td>Tibetan_terrier</td>\n",
       "      <td>0.008974</td>\n",
       "      <td>True</td>\n",
       "      <td>580.0</td>\n",
       "      <td>2308.0</td>\n",
       "    </tr>\n",
       "    <tr>\n",
       "      <th>1178</th>\n",
       "      <td>719551379208073216</td>\n",
       "      <td>NaN</td>\n",
       "      <td>NaN</td>\n",
       "      <td>2016-04-11 15:43:12 +0000</td>\n",
       "      <td>&lt;a href=\"http://twitter.com/download/iphone\" r...</td>\n",
       "      <td>This is Harnold. He accidentally opened the fr...</td>\n",
       "      <td>NaN</td>\n",
       "      <td>NaN</td>\n",
       "      <td>NaN</td>\n",
       "      <td>https://twitter.com/dog_rates/status/719551379...</td>\n",
       "      <td>...</td>\n",
       "      <td>0.873233</td>\n",
       "      <td>True</td>\n",
       "      <td>Siberian_husky</td>\n",
       "      <td>0.076435</td>\n",
       "      <td>True</td>\n",
       "      <td>Eskimo_dog</td>\n",
       "      <td>0.035745</td>\n",
       "      <td>True</td>\n",
       "      <td>2192.0</td>\n",
       "      <td>5515.0</td>\n",
       "    </tr>\n",
       "    <tr>\n",
       "      <th>413</th>\n",
       "      <td>822872901745569793</td>\n",
       "      <td>NaN</td>\n",
       "      <td>NaN</td>\n",
       "      <td>2017-01-21 18:26:02 +0000</td>\n",
       "      <td>&lt;a href=\"http://twitter.com/download/iphone\" r...</td>\n",
       "      <td>Here's a super supportive puppo participating ...</td>\n",
       "      <td>NaN</td>\n",
       "      <td>NaN</td>\n",
       "      <td>NaN</td>\n",
       "      <td>https://twitter.com/dog_rates/status/822872901...</td>\n",
       "      <td>...</td>\n",
       "      <td>0.196015</td>\n",
       "      <td>True</td>\n",
       "      <td>Labrador_retriever</td>\n",
       "      <td>0.160329</td>\n",
       "      <td>True</td>\n",
       "      <td>Irish_terrier</td>\n",
       "      <td>0.069126</td>\n",
       "      <td>True</td>\n",
       "      <td>48265.0</td>\n",
       "      <td>132810.0</td>\n",
       "    </tr>\n",
       "    <tr>\n",
       "      <th>675</th>\n",
       "      <td>789530877013393408</td>\n",
       "      <td>NaN</td>\n",
       "      <td>NaN</td>\n",
       "      <td>2016-10-21 18:16:44 +0000</td>\n",
       "      <td>&lt;a href=\"http://twitter.com/download/iphone\" r...</td>\n",
       "      <td>This is Rizzy. She smiles a lot. 12/10 contagi...</td>\n",
       "      <td>NaN</td>\n",
       "      <td>NaN</td>\n",
       "      <td>NaN</td>\n",
       "      <td>https://twitter.com/dog_rates/status/789530877...</td>\n",
       "      <td>...</td>\n",
       "      <td>0.363272</td>\n",
       "      <td>True</td>\n",
       "      <td>kelpie</td>\n",
       "      <td>0.197021</td>\n",
       "      <td>True</td>\n",
       "      <td>Norwegian_elkhound</td>\n",
       "      <td>0.151024</td>\n",
       "      <td>True</td>\n",
       "      <td>3942.0</td>\n",
       "      <td>13188.0</td>\n",
       "    </tr>\n",
       "    <tr>\n",
       "      <th>1535</th>\n",
       "      <td>689977555533848577</td>\n",
       "      <td>NaN</td>\n",
       "      <td>NaN</td>\n",
       "      <td>2016-01-21 01:07:23 +0000</td>\n",
       "      <td>&lt;a href=\"http://twitter.com/download/iphone\" r...</td>\n",
       "      <td>Happy Wednesday here's a pup wearing a beret. ...</td>\n",
       "      <td>NaN</td>\n",
       "      <td>NaN</td>\n",
       "      <td>NaN</td>\n",
       "      <td>https://twitter.com/dog_rates/status/689977555...</td>\n",
       "      <td>...</td>\n",
       "      <td>0.291081</td>\n",
       "      <td>False</td>\n",
       "      <td>Labrador_retriever</td>\n",
       "      <td>0.179625</td>\n",
       "      <td>True</td>\n",
       "      <td>sombrero</td>\n",
       "      <td>0.121493</td>\n",
       "      <td>False</td>\n",
       "      <td>502.0</td>\n",
       "      <td>1490.0</td>\n",
       "    </tr>\n",
       "    <tr>\n",
       "      <th>1701</th>\n",
       "      <td>680940246314430465</td>\n",
       "      <td>NaN</td>\n",
       "      <td>NaN</td>\n",
       "      <td>2015-12-27 02:36:20 +0000</td>\n",
       "      <td>&lt;a href=\"http://twitter.com/download/iphone\" r...</td>\n",
       "      <td>This is Alice. She's an idiot. 4/10 https://t....</td>\n",
       "      <td>NaN</td>\n",
       "      <td>NaN</td>\n",
       "      <td>NaN</td>\n",
       "      <td>https://twitter.com/dog_rates/status/680940246...</td>\n",
       "      <td>...</td>\n",
       "      <td>0.289598</td>\n",
       "      <td>True</td>\n",
       "      <td>West_Highland_white_terrier</td>\n",
       "      <td>0.157195</td>\n",
       "      <td>True</td>\n",
       "      <td>toy_poodle</td>\n",
       "      <td>0.074435</td>\n",
       "      <td>True</td>\n",
       "      <td>1225.0</td>\n",
       "      <td>3544.0</td>\n",
       "    </tr>\n",
       "    <tr>\n",
       "      <th>2037</th>\n",
       "      <td>671561002136281088</td>\n",
       "      <td>NaN</td>\n",
       "      <td>NaN</td>\n",
       "      <td>2015-12-01 05:26:34 +0000</td>\n",
       "      <td>&lt;a href=\"http://twitter.com/download/iphone\" r...</td>\n",
       "      <td>This is the best thing I've ever seen so sprea...</td>\n",
       "      <td>NaN</td>\n",
       "      <td>NaN</td>\n",
       "      <td>NaN</td>\n",
       "      <td>https://twitter.com/dog_rates/status/671561002...</td>\n",
       "      <td>...</td>\n",
       "      <td>0.469373</td>\n",
       "      <td>True</td>\n",
       "      <td>black-and-tan_coonhound</td>\n",
       "      <td>0.270893</td>\n",
       "      <td>True</td>\n",
       "      <td>Rottweiler</td>\n",
       "      <td>0.153233</td>\n",
       "      <td>True</td>\n",
       "      <td>7931.0</td>\n",
       "      <td>13679.0</td>\n",
       "    </tr>\n",
       "    <tr>\n",
       "      <th>1133</th>\n",
       "      <td>728751179681943552</td>\n",
       "      <td>NaN</td>\n",
       "      <td>NaN</td>\n",
       "      <td>2016-05-07 00:59:55 +0000</td>\n",
       "      <td>&lt;a href=\"http://twitter.com/download/iphone\" r...</td>\n",
       "      <td>This is Flurpson. He can't believe it's not bu...</td>\n",
       "      <td>NaN</td>\n",
       "      <td>NaN</td>\n",
       "      <td>NaN</td>\n",
       "      <td>https://twitter.com/dog_rates/status/728751179...</td>\n",
       "      <td>...</td>\n",
       "      <td>0.482050</td>\n",
       "      <td>True</td>\n",
       "      <td>collie</td>\n",
       "      <td>0.202740</td>\n",
       "      <td>True</td>\n",
       "      <td>borzoi</td>\n",
       "      <td>0.037976</td>\n",
       "      <td>True</td>\n",
       "      <td>757.0</td>\n",
       "      <td>3032.0</td>\n",
       "    </tr>\n",
       "    <tr>\n",
       "      <th>726</th>\n",
       "      <td>782598640137187329</td>\n",
       "      <td>NaN</td>\n",
       "      <td>NaN</td>\n",
       "      <td>2016-10-02 15:10:30 +0000</td>\n",
       "      <td>&lt;a href=\"http://twitter.com/download/iphone\" r...</td>\n",
       "      <td>This is Timmy. He's quite large. According to ...</td>\n",
       "      <td>NaN</td>\n",
       "      <td>NaN</td>\n",
       "      <td>NaN</td>\n",
       "      <td>https://twitter.com/dog_rates/status/782598640...</td>\n",
       "      <td>...</td>\n",
       "      <td>0.840871</td>\n",
       "      <td>True</td>\n",
       "      <td>Tibetan_mastiff</td>\n",
       "      <td>0.140516</td>\n",
       "      <td>True</td>\n",
       "      <td>Eskimo_dog</td>\n",
       "      <td>0.012012</td>\n",
       "      <td>True</td>\n",
       "      <td>2184.0</td>\n",
       "      <td>8694.0</td>\n",
       "    </tr>\n",
       "    <tr>\n",
       "      <th>796</th>\n",
       "      <td>773247561583001600</td>\n",
       "      <td>NaN</td>\n",
       "      <td>NaN</td>\n",
       "      <td>2016-09-06 19:52:39 +0000</td>\n",
       "      <td>&lt;a href=\"http://twitter.com/download/iphone\" r...</td>\n",
       "      <td>This is Chip. He's a pupholder. Comes with the...</td>\n",
       "      <td>NaN</td>\n",
       "      <td>NaN</td>\n",
       "      <td>NaN</td>\n",
       "      <td>https://twitter.com/dog_rates/status/773247561...</td>\n",
       "      <td>...</td>\n",
       "      <td>0.713588</td>\n",
       "      <td>False</td>\n",
       "      <td>miniature_pinscher</td>\n",
       "      <td>0.083369</td>\n",
       "      <td>True</td>\n",
       "      <td>Brabancon_griffon</td>\n",
       "      <td>0.075696</td>\n",
       "      <td>True</td>\n",
       "      <td>3699.0</td>\n",
       "      <td>10414.0</td>\n",
       "    </tr>\n",
       "    <tr>\n",
       "      <th>2218</th>\n",
       "      <td>668507509523615744</td>\n",
       "      <td>NaN</td>\n",
       "      <td>NaN</td>\n",
       "      <td>2015-11-22 19:13:05 +0000</td>\n",
       "      <td>&lt;a href=\"http://twitter.com/download/iphone\" r...</td>\n",
       "      <td>This is a Birmingham Quagmire named Chuk. Love...</td>\n",
       "      <td>NaN</td>\n",
       "      <td>NaN</td>\n",
       "      <td>NaN</td>\n",
       "      <td>https://twitter.com/dog_rates/status/668507509...</td>\n",
       "      <td>...</td>\n",
       "      <td>0.055379</td>\n",
       "      <td>True</td>\n",
       "      <td>Shetland_sheepdog</td>\n",
       "      <td>0.054322</td>\n",
       "      <td>True</td>\n",
       "      <td>whippet</td>\n",
       "      <td>0.051913</td>\n",
       "      <td>True</td>\n",
       "      <td>116.0</td>\n",
       "      <td>345.0</td>\n",
       "    </tr>\n",
       "    <tr>\n",
       "      <th>2056</th>\n",
       "      <td>671357843010908160</td>\n",
       "      <td>NaN</td>\n",
       "      <td>NaN</td>\n",
       "      <td>2015-11-30 15:59:17 +0000</td>\n",
       "      <td>&lt;a href=\"http://twitter.com/download/iphone\" r...</td>\n",
       "      <td>Tfw she says hello from the other side. 9/10 h...</td>\n",
       "      <td>NaN</td>\n",
       "      <td>NaN</td>\n",
       "      <td>NaN</td>\n",
       "      <td>https://twitter.com/dog_rates/status/671357843...</td>\n",
       "      <td>...</td>\n",
       "      <td>0.831757</td>\n",
       "      <td>True</td>\n",
       "      <td>toy_terrier</td>\n",
       "      <td>0.043306</td>\n",
       "      <td>True</td>\n",
       "      <td>Chihuahua</td>\n",
       "      <td>0.036773</td>\n",
       "      <td>True</td>\n",
       "      <td>157.0</td>\n",
       "      <td>426.0</td>\n",
       "    </tr>\n",
       "    <tr>\n",
       "      <th>2001</th>\n",
       "      <td>672482722825261057</td>\n",
       "      <td>NaN</td>\n",
       "      <td>NaN</td>\n",
       "      <td>2015-12-03 18:29:09 +0000</td>\n",
       "      <td>&lt;a href=\"http://twitter.com/download/iphone\" r...</td>\n",
       "      <td>This is light saber pup. Ready to fight off ev...</td>\n",
       "      <td>NaN</td>\n",
       "      <td>NaN</td>\n",
       "      <td>NaN</td>\n",
       "      <td>https://twitter.com/dog_rates/status/672482722...</td>\n",
       "      <td>...</td>\n",
       "      <td>0.586173</td>\n",
       "      <td>True</td>\n",
       "      <td>borzoi</td>\n",
       "      <td>0.206620</td>\n",
       "      <td>True</td>\n",
       "      <td>Great_Pyrenees</td>\n",
       "      <td>0.060653</td>\n",
       "      <td>True</td>\n",
       "      <td>665.0</td>\n",
       "      <td>1221.0</td>\n",
       "    </tr>\n",
       "    <tr>\n",
       "      <th>2110</th>\n",
       "      <td>670444955656130560</td>\n",
       "      <td>NaN</td>\n",
       "      <td>NaN</td>\n",
       "      <td>2015-11-28 03:31:48 +0000</td>\n",
       "      <td>&lt;a href=\"http://twitter.com/download/iphone\" r...</td>\n",
       "      <td>This is Paull. He just stubbed his toe. 10/10 ...</td>\n",
       "      <td>NaN</td>\n",
       "      <td>NaN</td>\n",
       "      <td>NaN</td>\n",
       "      <td>https://twitter.com/dog_rates/status/670444955...</td>\n",
       "      <td>...</td>\n",
       "      <td>0.403698</td>\n",
       "      <td>True</td>\n",
       "      <td>Brittany_spaniel</td>\n",
       "      <td>0.347609</td>\n",
       "      <td>True</td>\n",
       "      <td>Welsh_springer_spaniel</td>\n",
       "      <td>0.137186</td>\n",
       "      <td>True</td>\n",
       "      <td>2153.0</td>\n",
       "      <td>7120.0</td>\n",
       "    </tr>\n",
       "    <tr>\n",
       "      <th>1401</th>\n",
       "      <td>699434518667751424</td>\n",
       "      <td>NaN</td>\n",
       "      <td>NaN</td>\n",
       "      <td>2016-02-16 03:25:58 +0000</td>\n",
       "      <td>&lt;a href=\"http://twitter.com/download/iphone\" r...</td>\n",
       "      <td>I know this is a tad late but here's a wonderf...</td>\n",
       "      <td>NaN</td>\n",
       "      <td>NaN</td>\n",
       "      <td>NaN</td>\n",
       "      <td>https://twitter.com/dog_rates/status/699434518...</td>\n",
       "      <td>...</td>\n",
       "      <td>0.836572</td>\n",
       "      <td>True</td>\n",
       "      <td>kuvasz</td>\n",
       "      <td>0.105946</td>\n",
       "      <td>True</td>\n",
       "      <td>Labrador_retriever</td>\n",
       "      <td>0.025144</td>\n",
       "      <td>True</td>\n",
       "      <td>577.0</td>\n",
       "      <td>2384.0</td>\n",
       "    </tr>\n",
       "    <tr>\n",
       "      <th>696</th>\n",
       "      <td>786664955043049472</td>\n",
       "      <td>NaN</td>\n",
       "      <td>NaN</td>\n",
       "      <td>2016-10-13 20:28:35 +0000</td>\n",
       "      <td>&lt;a href=\"http://twitter.com/download/iphone\" r...</td>\n",
       "      <td>\"Honestly Kathleen I just want more Ken Bone\" ...</td>\n",
       "      <td>NaN</td>\n",
       "      <td>NaN</td>\n",
       "      <td>NaN</td>\n",
       "      <td>https://twitter.com/dog_rates/status/786664955...</td>\n",
       "      <td>...</td>\n",
       "      <td>0.512034</td>\n",
       "      <td>True</td>\n",
       "      <td>keeshond</td>\n",
       "      <td>0.464816</td>\n",
       "      <td>True</td>\n",
       "      <td>Pomeranian</td>\n",
       "      <td>0.007812</td>\n",
       "      <td>True</td>\n",
       "      <td>2996.0</td>\n",
       "      <td>11957.0</td>\n",
       "    </tr>\n",
       "  </tbody>\n",
       "</table>\n",
       "<p>20 rows × 27 columns</p>\n",
       "</div>"
      ],
      "text/plain": [
       "                tweet_id  in_reply_to_status_id  in_reply_to_user_id  \\\n",
       "731   781655249211752448                    NaN                  NaN   \n",
       "791   773704687002451968                    NaN                  NaN   \n",
       "1885  674793399141146624           6.717299e+17         4.196984e+09   \n",
       "2083  670811965569282048                    NaN                  NaN   \n",
       "1258  710283270106132480                    NaN                  NaN   \n",
       "1178  719551379208073216                    NaN                  NaN   \n",
       "413   822872901745569793                    NaN                  NaN   \n",
       "675   789530877013393408                    NaN                  NaN   \n",
       "1535  689977555533848577                    NaN                  NaN   \n",
       "1701  680940246314430465                    NaN                  NaN   \n",
       "2037  671561002136281088                    NaN                  NaN   \n",
       "1133  728751179681943552                    NaN                  NaN   \n",
       "726   782598640137187329                    NaN                  NaN   \n",
       "796   773247561583001600                    NaN                  NaN   \n",
       "2218  668507509523615744                    NaN                  NaN   \n",
       "2056  671357843010908160                    NaN                  NaN   \n",
       "2001  672482722825261057                    NaN                  NaN   \n",
       "2110  670444955656130560                    NaN                  NaN   \n",
       "1401  699434518667751424                    NaN                  NaN   \n",
       "696   786664955043049472                    NaN                  NaN   \n",
       "\n",
       "                      timestamp  \\\n",
       "731   2016-09-30 00:41:48 +0000   \n",
       "791   2016-09-08 02:09:06 +0000   \n",
       "1885  2015-12-10 03:30:58 +0000   \n",
       "2083  2015-11-29 03:50:10 +0000   \n",
       "1258  2016-03-17 01:55:02 +0000   \n",
       "1178  2016-04-11 15:43:12 +0000   \n",
       "413   2017-01-21 18:26:02 +0000   \n",
       "675   2016-10-21 18:16:44 +0000   \n",
       "1535  2016-01-21 01:07:23 +0000   \n",
       "1701  2015-12-27 02:36:20 +0000   \n",
       "2037  2015-12-01 05:26:34 +0000   \n",
       "1133  2016-05-07 00:59:55 +0000   \n",
       "726   2016-10-02 15:10:30 +0000   \n",
       "796   2016-09-06 19:52:39 +0000   \n",
       "2218  2015-11-22 19:13:05 +0000   \n",
       "2056  2015-11-30 15:59:17 +0000   \n",
       "2001  2015-12-03 18:29:09 +0000   \n",
       "2110  2015-11-28 03:31:48 +0000   \n",
       "1401  2016-02-16 03:25:58 +0000   \n",
       "696   2016-10-13 20:28:35 +0000   \n",
       "\n",
       "                                                 source  \\\n",
       "731   <a href=\"http://vine.co\" rel=\"nofollow\">Vine -...   \n",
       "791   <a href=\"http://twitter.com/download/iphone\" r...   \n",
       "1885  <a href=\"http://twitter.com/download/iphone\" r...   \n",
       "2083  <a href=\"http://twitter.com/download/iphone\" r...   \n",
       "1258  <a href=\"http://twitter.com/download/iphone\" r...   \n",
       "1178  <a href=\"http://twitter.com/download/iphone\" r...   \n",
       "413   <a href=\"http://twitter.com/download/iphone\" r...   \n",
       "675   <a href=\"http://twitter.com/download/iphone\" r...   \n",
       "1535  <a href=\"http://twitter.com/download/iphone\" r...   \n",
       "1701  <a href=\"http://twitter.com/download/iphone\" r...   \n",
       "2037  <a href=\"http://twitter.com/download/iphone\" r...   \n",
       "1133  <a href=\"http://twitter.com/download/iphone\" r...   \n",
       "726   <a href=\"http://twitter.com/download/iphone\" r...   \n",
       "796   <a href=\"http://twitter.com/download/iphone\" r...   \n",
       "2218  <a href=\"http://twitter.com/download/iphone\" r...   \n",
       "2056  <a href=\"http://twitter.com/download/iphone\" r...   \n",
       "2001  <a href=\"http://twitter.com/download/iphone\" r...   \n",
       "2110  <a href=\"http://twitter.com/download/iphone\" r...   \n",
       "1401  <a href=\"http://twitter.com/download/iphone\" r...   \n",
       "696   <a href=\"http://twitter.com/download/iphone\" r...   \n",
       "\n",
       "                                                   text  retweeted_status_id  \\\n",
       "731   This is Combo. The daily struggles of being a ...                  NaN   \n",
       "791   This is Loki. He knows he's adorable. One ear ...                  NaN   \n",
       "1885  I have found another. 13/10 https://t.co/HwroP...                  NaN   \n",
       "2083  Meet Maggie. She enjoys her stick in the yard....                  NaN   \n",
       "1258  This is Gunner. He's a Figamus Newton. King of...                  NaN   \n",
       "1178  This is Harnold. He accidentally opened the fr...                  NaN   \n",
       "413   Here's a super supportive puppo participating ...                  NaN   \n",
       "675   This is Rizzy. She smiles a lot. 12/10 contagi...                  NaN   \n",
       "1535  Happy Wednesday here's a pup wearing a beret. ...                  NaN   \n",
       "1701  This is Alice. She's an idiot. 4/10 https://t....                  NaN   \n",
       "2037  This is the best thing I've ever seen so sprea...                  NaN   \n",
       "1133  This is Flurpson. He can't believe it's not bu...                  NaN   \n",
       "726   This is Timmy. He's quite large. According to ...                  NaN   \n",
       "796   This is Chip. He's a pupholder. Comes with the...                  NaN   \n",
       "2218  This is a Birmingham Quagmire named Chuk. Love...                  NaN   \n",
       "2056  Tfw she says hello from the other side. 9/10 h...                  NaN   \n",
       "2001  This is light saber pup. Ready to fight off ev...                  NaN   \n",
       "2110  This is Paull. He just stubbed his toe. 10/10 ...                  NaN   \n",
       "1401  I know this is a tad late but here's a wonderf...                  NaN   \n",
       "696   \"Honestly Kathleen I just want more Ken Bone\" ...                  NaN   \n",
       "\n",
       "      retweeted_status_user_id retweeted_status_timestamp  \\\n",
       "731                        NaN                        NaN   \n",
       "791                        NaN                        NaN   \n",
       "1885                       NaN                        NaN   \n",
       "2083                       NaN                        NaN   \n",
       "1258                       NaN                        NaN   \n",
       "1178                       NaN                        NaN   \n",
       "413                        NaN                        NaN   \n",
       "675                        NaN                        NaN   \n",
       "1535                       NaN                        NaN   \n",
       "1701                       NaN                        NaN   \n",
       "2037                       NaN                        NaN   \n",
       "1133                       NaN                        NaN   \n",
       "726                        NaN                        NaN   \n",
       "796                        NaN                        NaN   \n",
       "2218                       NaN                        NaN   \n",
       "2056                       NaN                        NaN   \n",
       "2001                       NaN                        NaN   \n",
       "2110                       NaN                        NaN   \n",
       "1401                       NaN                        NaN   \n",
       "696                        NaN                        NaN   \n",
       "\n",
       "                                          expanded_urls  ...  p1_confidence  \\\n",
       "731                       https://vine.co/v/5rt6T3qm7hL  ...            NaN   \n",
       "791   https://twitter.com/dog_rates/status/773704687...  ...       0.324251   \n",
       "1885  https://twitter.com/dog_rates/status/674793399...  ...       0.119693   \n",
       "2083  https://twitter.com/dog_rates/status/670811965...  ...       0.994090   \n",
       "1258  https://twitter.com/dog_rates/status/710283270...  ...       0.932401   \n",
       "1178  https://twitter.com/dog_rates/status/719551379...  ...       0.873233   \n",
       "413   https://twitter.com/dog_rates/status/822872901...  ...       0.196015   \n",
       "675   https://twitter.com/dog_rates/status/789530877...  ...       0.363272   \n",
       "1535  https://twitter.com/dog_rates/status/689977555...  ...       0.291081   \n",
       "1701  https://twitter.com/dog_rates/status/680940246...  ...       0.289598   \n",
       "2037  https://twitter.com/dog_rates/status/671561002...  ...       0.469373   \n",
       "1133  https://twitter.com/dog_rates/status/728751179...  ...       0.482050   \n",
       "726   https://twitter.com/dog_rates/status/782598640...  ...       0.840871   \n",
       "796   https://twitter.com/dog_rates/status/773247561...  ...       0.713588   \n",
       "2218  https://twitter.com/dog_rates/status/668507509...  ...       0.055379   \n",
       "2056  https://twitter.com/dog_rates/status/671357843...  ...       0.831757   \n",
       "2001  https://twitter.com/dog_rates/status/672482722...  ...       0.586173   \n",
       "2110  https://twitter.com/dog_rates/status/670444955...  ...       0.403698   \n",
       "1401  https://twitter.com/dog_rates/status/699434518...  ...       0.836572   \n",
       "696   https://twitter.com/dog_rates/status/786664955...  ...       0.512034   \n",
       "\n",
       "      p1_dog                           p2 p2_confidence p2_dog  \\\n",
       "731      NaN                          NaN           NaN    NaN   \n",
       "791     True            Yorkshire_terrier      0.181210   True   \n",
       "1885    True                 Afghan_hound      0.072763   True   \n",
       "2083    True                 Walker_hound      0.003973   True   \n",
       "1258    True                        Lhasa      0.030806   True   \n",
       "1178    True               Siberian_husky      0.076435   True   \n",
       "413     True           Labrador_retriever      0.160329   True   \n",
       "675     True                       kelpie      0.197021   True   \n",
       "1535   False           Labrador_retriever      0.179625   True   \n",
       "1701    True  West_Highland_white_terrier      0.157195   True   \n",
       "2037    True      black-and-tan_coonhound      0.270893   True   \n",
       "1133    True                       collie      0.202740   True   \n",
       "726     True              Tibetan_mastiff      0.140516   True   \n",
       "796    False           miniature_pinscher      0.083369   True   \n",
       "2218    True            Shetland_sheepdog      0.054322   True   \n",
       "2056    True                  toy_terrier      0.043306   True   \n",
       "2001    True                       borzoi      0.206620   True   \n",
       "2110    True             Brittany_spaniel      0.347609   True   \n",
       "1401    True                       kuvasz      0.105946   True   \n",
       "696     True                     keeshond      0.464816   True   \n",
       "\n",
       "                          p3 p3_confidence  p3_dog retweet_count  \\\n",
       "731                      NaN           NaN     NaN        1314.0   \n",
       "791                 Airedale      0.133436    True        1891.0   \n",
       "1885     miniature_schnauzer      0.063786    True        1225.0   \n",
       "2083                  beagle      0.001406    True         295.0   \n",
       "1258         Tibetan_terrier      0.008974    True         580.0   \n",
       "1178              Eskimo_dog      0.035745    True        2192.0   \n",
       "413            Irish_terrier      0.069126    True       48265.0   \n",
       "675       Norwegian_elkhound      0.151024    True        3942.0   \n",
       "1535                sombrero      0.121493   False         502.0   \n",
       "1701              toy_poodle      0.074435    True        1225.0   \n",
       "2037              Rottweiler      0.153233    True        7931.0   \n",
       "1133                  borzoi      0.037976    True         757.0   \n",
       "726               Eskimo_dog      0.012012    True        2184.0   \n",
       "796        Brabancon_griffon      0.075696    True        3699.0   \n",
       "2218                 whippet      0.051913    True         116.0   \n",
       "2056               Chihuahua      0.036773    True         157.0   \n",
       "2001          Great_Pyrenees      0.060653    True         665.0   \n",
       "2110  Welsh_springer_spaniel      0.137186    True        2153.0   \n",
       "1401      Labrador_retriever      0.025144    True         577.0   \n",
       "696               Pomeranian      0.007812    True        2996.0   \n",
       "\n",
       "     favorite_count  \n",
       "731          4466.0  \n",
       "791          7317.0  \n",
       "1885         2697.0  \n",
       "2083         1202.0  \n",
       "1258         2308.0  \n",
       "1178         5515.0  \n",
       "413        132810.0  \n",
       "675         13188.0  \n",
       "1535         1490.0  \n",
       "1701         3544.0  \n",
       "2037        13679.0  \n",
       "1133         3032.0  \n",
       "726          8694.0  \n",
       "796         10414.0  \n",
       "2218          345.0  \n",
       "2056          426.0  \n",
       "2001         1221.0  \n",
       "2110         7120.0  \n",
       "1401         2384.0  \n",
       "696         11957.0  \n",
       "\n",
       "[20 rows x 27 columns]"
      ]
     },
     "execution_count": 35,
     "metadata": {},
     "output_type": "execute_result"
    }
   ],
   "source": [
    "df_weratedogs_archive.sample(20)   # Inspect random 20 rows of the Dataset by visual assessment"
   ]
  },
  {
   "cell_type": "code",
   "execution_count": 36,
   "metadata": {},
   "outputs": [
    {
     "name": "stdout",
     "output_type": "stream",
     "text": [
      "<class 'pandas.core.frame.DataFrame'>\n",
      "Int64Index: 2356 entries, 0 to 2355\n",
      "Data columns (total 27 columns):\n",
      " #   Column                      Non-Null Count  Dtype  \n",
      "---  ------                      --------------  -----  \n",
      " 0   tweet_id                    2356 non-null   int64  \n",
      " 1   in_reply_to_status_id       78 non-null     float64\n",
      " 2   in_reply_to_user_id         78 non-null     float64\n",
      " 3   timestamp                   2356 non-null   object \n",
      " 4   source                      2356 non-null   object \n",
      " 5   text                        2356 non-null   object \n",
      " 6   retweeted_status_id         181 non-null    float64\n",
      " 7   retweeted_status_user_id    181 non-null    float64\n",
      " 8   retweeted_status_timestamp  181 non-null    object \n",
      " 9   expanded_urls               2297 non-null   object \n",
      " 10  rating_numerator            2356 non-null   int64  \n",
      " 11  rating_denominator          2356 non-null   int64  \n",
      " 12  name                        2356 non-null   object \n",
      " 13  dog_stages                  380 non-null    object \n",
      " 14  jpg_url                     2075 non-null   object \n",
      " 15  img_num                     2075 non-null   float64\n",
      " 16  p1                          2075 non-null   object \n",
      " 17  p1_confidence               2075 non-null   float64\n",
      " 18  p1_dog                      2075 non-null   object \n",
      " 19  p2                          2075 non-null   object \n",
      " 20  p2_confidence               2075 non-null   float64\n",
      " 21  p2_dog                      2075 non-null   object \n",
      " 22  p3                          2075 non-null   object \n",
      " 23  p3_confidence               2075 non-null   float64\n",
      " 24  p3_dog                      2075 non-null   object \n",
      " 25  retweet_count               2354 non-null   float64\n",
      " 26  favorite_count              2354 non-null   float64\n",
      "dtypes: float64(10), int64(3), object(14)\n",
      "memory usage: 515.4+ KB\n"
     ]
    }
   ],
   "source": [
    "df_weratedogs_archive.info()  # Inspect feature attributes"
   ]
  },
  {
   "cell_type": "markdown",
   "metadata": {},
   "source": [
    "### Quality"
   ]
  },
  {
   "cell_type": "markdown",
   "metadata": {},
   "source": [
    "### Issue #1: retweeted_status_id, retweeted_status_user_id and retweeted_status_timestamp should be dropped since we are only interested in tweets.\n",
    "\n",
    "\n",
    "\n",
    "#### Define: Drop all retweets using the drop method."
   ]
  },
  {
   "cell_type": "markdown",
   "metadata": {},
   "source": [
    "#### Code"
   ]
  },
  {
   "cell_type": "code",
   "execution_count": 37,
   "metadata": {},
   "outputs": [],
   "source": [
    "# Obtain the index of all retweets\n",
    "row_index= df_weratedogs_archive[df_weratedogs_archive['retweeted_status_id'].notnull()].index\n",
    "\n",
    "# List of all retweet columns to be dropped\n",
    "columns= ['retweeted_status_id', 'retweeted_status_user_id', 'retweeted_status_timestamp']\n",
    "\n",
    "# Drop all retweet rows\n",
    "drop_row_col(df_weratedogs_archive, row_index, axis= 0)\n",
    "\n",
    "# Drop all retweet columns\n",
    "drop_row_col(df_weratedogs_archive, columns, axis= 1)"
   ]
  },
  {
   "cell_type": "markdown",
   "metadata": {},
   "source": [
    "#### Test"
   ]
  },
  {
   "cell_type": "code",
   "execution_count": 38,
   "metadata": {},
   "outputs": [
    {
     "name": "stdout",
     "output_type": "stream",
     "text": [
      "<class 'pandas.core.frame.DataFrame'>\n",
      "Int64Index: 2175 entries, 0 to 2355\n",
      "Data columns (total 24 columns):\n",
      " #   Column                 Non-Null Count  Dtype  \n",
      "---  ------                 --------------  -----  \n",
      " 0   tweet_id               2175 non-null   int64  \n",
      " 1   in_reply_to_status_id  78 non-null     float64\n",
      " 2   in_reply_to_user_id    78 non-null     float64\n",
      " 3   timestamp              2175 non-null   object \n",
      " 4   source                 2175 non-null   object \n",
      " 5   text                   2175 non-null   object \n",
      " 6   expanded_urls          2117 non-null   object \n",
      " 7   rating_numerator       2175 non-null   int64  \n",
      " 8   rating_denominator     2175 non-null   int64  \n",
      " 9   name                   2175 non-null   object \n",
      " 10  dog_stages             344 non-null    object \n",
      " 11  jpg_url                1994 non-null   object \n",
      " 12  img_num                1994 non-null   float64\n",
      " 13  p1                     1994 non-null   object \n",
      " 14  p1_confidence          1994 non-null   float64\n",
      " 15  p1_dog                 1994 non-null   object \n",
      " 16  p2                     1994 non-null   object \n",
      " 17  p2_confidence          1994 non-null   float64\n",
      " 18  p2_dog                 1994 non-null   object \n",
      " 19  p3                     1994 non-null   object \n",
      " 20  p3_confidence          1994 non-null   float64\n",
      " 21  p3_dog                 1994 non-null   object \n",
      " 22  retweet_count          2175 non-null   float64\n",
      " 23  favorite_count         2175 non-null   float64\n",
      "dtypes: float64(8), int64(3), object(13)\n",
      "memory usage: 424.8+ KB\n"
     ]
    }
   ],
   "source": [
    "df_weratedogs_archive.info()  # Inspect feature attributes"
   ]
  },
  {
   "cell_type": "markdown",
   "metadata": {},
   "source": [
    "### Issue #2: in_reply_status_id, in_reply_to_user_id and expanded_urls columns contain missing values and will be dropped since they are not needed for the analysis.\n",
    "\n",
    "\n",
    "\n",
    "#### Define: Drop all affected columns using the drop method."
   ]
  },
  {
   "cell_type": "markdown",
   "metadata": {},
   "source": [
    "#### Code"
   ]
  },
  {
   "cell_type": "code",
   "execution_count": 39,
   "metadata": {},
   "outputs": [],
   "source": [
    "# Obtain the index of all replies\n",
    "row_index1= df_weratedogs_archive[df_weratedogs_archive['in_reply_to_status_id'].notnull()].index\n",
    "\n",
    "# List of all columns to be dropped\n",
    "columns1= ['in_reply_to_user_id', 'in_reply_to_status_id', 'expanded_urls']\n",
    "\n",
    "# Drop all reply rows\n",
    "drop_row_col(df_weratedogs_archive, row_index1, axis= 0)\n",
    "\n",
    "# Drop all columns\n",
    "drop_row_col(df_weratedogs_archive, columns1, axis= 1)"
   ]
  },
  {
   "cell_type": "markdown",
   "metadata": {},
   "source": [
    "#### Test"
   ]
  },
  {
   "cell_type": "code",
   "execution_count": 40,
   "metadata": {},
   "outputs": [
    {
     "name": "stdout",
     "output_type": "stream",
     "text": [
      "<class 'pandas.core.frame.DataFrame'>\n",
      "Int64Index: 2097 entries, 0 to 2355\n",
      "Data columns (total 21 columns):\n",
      " #   Column              Non-Null Count  Dtype  \n",
      "---  ------              --------------  -----  \n",
      " 0   tweet_id            2097 non-null   int64  \n",
      " 1   timestamp           2097 non-null   object \n",
      " 2   source              2097 non-null   object \n",
      " 3   text                2097 non-null   object \n",
      " 4   rating_numerator    2097 non-null   int64  \n",
      " 5   rating_denominator  2097 non-null   int64  \n",
      " 6   name                2097 non-null   object \n",
      " 7   dog_stages          336 non-null    object \n",
      " 8   jpg_url             1971 non-null   object \n",
      " 9   img_num             1971 non-null   float64\n",
      " 10  p1                  1971 non-null   object \n",
      " 11  p1_confidence       1971 non-null   float64\n",
      " 12  p1_dog              1971 non-null   object \n",
      " 13  p2                  1971 non-null   object \n",
      " 14  p2_confidence       1971 non-null   float64\n",
      " 15  p2_dog              1971 non-null   object \n",
      " 16  p3                  1971 non-null   object \n",
      " 17  p3_confidence       1971 non-null   float64\n",
      " 18  p3_dog              1971 non-null   object \n",
      " 19  retweet_count       2097 non-null   float64\n",
      " 20  favorite_count      2097 non-null   float64\n",
      "dtypes: float64(6), int64(3), object(12)\n",
      "memory usage: 360.4+ KB\n"
     ]
    }
   ],
   "source": [
    "df_weratedogs_archive.info()  # Inspect feature attributes"
   ]
  },
  {
   "cell_type": "markdown",
   "metadata": {},
   "source": [
    "### Issue #3: tweet_id should be a string('object') and not an integer('int64').\n",
    "\n",
    "\n",
    "\n",
    "#### Define: convert tweet_id column data type to string by using the astype method."
   ]
  },
  {
   "cell_type": "markdown",
   "metadata": {},
   "source": [
    "#### Code"
   ]
  },
  {
   "cell_type": "code",
   "execution_count": 41,
   "metadata": {},
   "outputs": [],
   "source": [
    "# Change tweet_id datatype to string\n",
    "\n",
    "df_weratedogs_archive['tweet_id']= df_weratedogs_archive['tweet_id'].astype(str)"
   ]
  },
  {
   "cell_type": "markdown",
   "metadata": {},
   "source": [
    "#### Test"
   ]
  },
  {
   "cell_type": "code",
   "execution_count": 42,
   "metadata": {},
   "outputs": [
    {
     "name": "stdout",
     "output_type": "stream",
     "text": [
      "<class 'pandas.core.frame.DataFrame'>\n",
      "Int64Index: 2097 entries, 0 to 2355\n",
      "Data columns (total 21 columns):\n",
      " #   Column              Non-Null Count  Dtype  \n",
      "---  ------              --------------  -----  \n",
      " 0   tweet_id            2097 non-null   object \n",
      " 1   timestamp           2097 non-null   object \n",
      " 2   source              2097 non-null   object \n",
      " 3   text                2097 non-null   object \n",
      " 4   rating_numerator    2097 non-null   int64  \n",
      " 5   rating_denominator  2097 non-null   int64  \n",
      " 6   name                2097 non-null   object \n",
      " 7   dog_stages          336 non-null    object \n",
      " 8   jpg_url             1971 non-null   object \n",
      " 9   img_num             1971 non-null   float64\n",
      " 10  p1                  1971 non-null   object \n",
      " 11  p1_confidence       1971 non-null   float64\n",
      " 12  p1_dog              1971 non-null   object \n",
      " 13  p2                  1971 non-null   object \n",
      " 14  p2_confidence       1971 non-null   float64\n",
      " 15  p2_dog              1971 non-null   object \n",
      " 16  p3                  1971 non-null   object \n",
      " 17  p3_confidence       1971 non-null   float64\n",
      " 18  p3_dog              1971 non-null   object \n",
      " 19  retweet_count       2097 non-null   float64\n",
      " 20  favorite_count      2097 non-null   float64\n",
      "dtypes: float64(6), int64(2), object(13)\n",
      "memory usage: 360.4+ KB\n"
     ]
    }
   ],
   "source": [
    "df_weratedogs_archive.info()  # Inspect feature attributes"
   ]
  },
  {
   "cell_type": "markdown",
   "metadata": {},
   "source": [
    "### Issue #4: timestamp should be 'datetime' not 'string'(object).\n",
    "\n",
    "\n",
    "\n",
    "#### Define: convert timestamp data type to datetime using the to_datetime method"
   ]
  },
  {
   "cell_type": "markdown",
   "metadata": {},
   "source": [
    "#### Code"
   ]
  },
  {
   "cell_type": "code",
   "execution_count": 43,
   "metadata": {},
   "outputs": [],
   "source": [
    "# Change timstamp datatype to datetime\n",
    "\n",
    "df_weratedogs_archive['timestamp']= pd.to_datetime(df_weratedogs_archive['timestamp'])"
   ]
  },
  {
   "cell_type": "markdown",
   "metadata": {},
   "source": [
    "#### Test"
   ]
  },
  {
   "cell_type": "code",
   "execution_count": 44,
   "metadata": {},
   "outputs": [
    {
     "name": "stdout",
     "output_type": "stream",
     "text": [
      "<class 'pandas.core.frame.DataFrame'>\n",
      "Int64Index: 2097 entries, 0 to 2355\n",
      "Data columns (total 21 columns):\n",
      " #   Column              Non-Null Count  Dtype              \n",
      "---  ------              --------------  -----              \n",
      " 0   tweet_id            2097 non-null   object             \n",
      " 1   timestamp           2097 non-null   datetime64[ns, UTC]\n",
      " 2   source              2097 non-null   object             \n",
      " 3   text                2097 non-null   object             \n",
      " 4   rating_numerator    2097 non-null   int64              \n",
      " 5   rating_denominator  2097 non-null   int64              \n",
      " 6   name                2097 non-null   object             \n",
      " 7   dog_stages          336 non-null    object             \n",
      " 8   jpg_url             1971 non-null   object             \n",
      " 9   img_num             1971 non-null   float64            \n",
      " 10  p1                  1971 non-null   object             \n",
      " 11  p1_confidence       1971 non-null   float64            \n",
      " 12  p1_dog              1971 non-null   object             \n",
      " 13  p2                  1971 non-null   object             \n",
      " 14  p2_confidence       1971 non-null   float64            \n",
      " 15  p2_dog              1971 non-null   object             \n",
      " 16  p3                  1971 non-null   object             \n",
      " 17  p3_confidence       1971 non-null   float64            \n",
      " 18  p3_dog              1971 non-null   object             \n",
      " 19  retweet_count       2097 non-null   float64            \n",
      " 20  favorite_count      2097 non-null   float64            \n",
      "dtypes: datetime64[ns, UTC](1), float64(6), int64(2), object(12)\n",
      "memory usage: 360.4+ KB\n"
     ]
    }
   ],
   "source": [
    "df_weratedogs_archive.info()  # Inspect feature attributes"
   ]
  },
  {
   "cell_type": "markdown",
   "metadata": {},
   "source": [
    "### Issue #5: some values in rating_denominator column are not '10' (which is the standard denominator for WeRateDogs)\n",
    "\n",
    "\n",
    "\n",
    "#### Define: To correct this, lets replace any number thats not 10 to 10."
   ]
  },
  {
   "cell_type": "markdown",
   "metadata": {},
   "source": [
    "#### Code"
   ]
  },
  {
   "cell_type": "code",
   "execution_count": 45,
   "metadata": {},
   "outputs": [],
   "source": [
    "# Replace all denominator to '10'\n",
    "\n",
    "df_weratedogs_archive['rating_denominator']= df_weratedogs_archive['rating_denominator'].replace(range(0, 1000), 10)"
   ]
  },
  {
   "cell_type": "markdown",
   "metadata": {},
   "source": [
    "#### Test"
   ]
  },
  {
   "cell_type": "code",
   "execution_count": 46,
   "metadata": {},
   "outputs": [
    {
     "data": {
      "text/plain": [
       "10    2097\n",
       "Name: rating_denominator, dtype: int64"
      ]
     },
     "execution_count": 46,
     "metadata": {},
     "output_type": "execute_result"
    }
   ],
   "source": [
    "df_weratedogs_archive['rating_denominator'].value_counts()  # Get the count of rating_denominator"
   ]
  },
  {
   "cell_type": "markdown",
   "metadata": {},
   "source": [
    "### Issue #6: some values in rating_numerator column are eqaul to Zero and some are less than 10\n",
    "\n",
    "\n",
    "\n",
    "#### Define: to correct this, we would add 10 to values less than 10 or equal to zero."
   ]
  },
  {
   "cell_type": "markdown",
   "metadata": {},
   "source": [
    "#### Code"
   ]
  },
  {
   "cell_type": "code",
   "execution_count": 47,
   "metadata": {},
   "outputs": [],
   "source": [
    "# Add '10' to numerator values less than 10 or equal to zero\n",
    "\n",
    "df_weratedogs_archive.rating_numerator[df_weratedogs_archive['rating_numerator'] <= 10] = df_weratedogs_archive.rating_numerator[df_weratedogs_archive['rating_numerator'] <= 10].add(10)"
   ]
  },
  {
   "cell_type": "markdown",
   "metadata": {},
   "source": [
    "#### Test"
   ]
  },
  {
   "cell_type": "code",
   "execution_count": 48,
   "metadata": {},
   "outputs": [
    {
     "data": {
      "text/plain": [
       "12      495\n",
       "20      436\n",
       "11      418\n",
       "13      306\n",
       "19      153\n",
       "18       98\n",
       "14       54\n",
       "17       52\n",
       "15       34\n",
       "16       32\n",
       "99        1\n",
       "88        1\n",
       "144       1\n",
       "26        1\n",
       "121       1\n",
       "44        1\n",
       "60        1\n",
       "45        1\n",
       "80        1\n",
       "204       1\n",
       "50        1\n",
       "1776      1\n",
       "165       1\n",
       "27        1\n",
       "75        1\n",
       "24        1\n",
       "84        1\n",
       "10        1\n",
       "420       1\n",
       "Name: rating_numerator, dtype: int64"
      ]
     },
     "execution_count": 48,
     "metadata": {},
     "output_type": "execute_result"
    }
   ],
   "source": [
    "df_weratedogs_archive['rating_numerator'].value_counts()  # Get the count of individual rating_numerator"
   ]
  },
  {
   "cell_type": "markdown",
   "metadata": {},
   "source": [
    "### Issue #7: Null values are represented with none in name column.\n",
    "\n",
    "\n",
    "\n",
    "#### Define: Correct by using replace methoid and nan method(numpy)"
   ]
  },
  {
   "cell_type": "markdown",
   "metadata": {},
   "source": [
    "#### Code"
   ]
  },
  {
   "cell_type": "code",
   "execution_count": 49,
   "metadata": {},
   "outputs": [],
   "source": [
    "# Replace None values with Null values\n",
    "\n",
    "df_weratedogs_archive['name']= df_weratedogs_archive['name'].replace('None', np.nan)"
   ]
  },
  {
   "cell_type": "markdown",
   "metadata": {},
   "source": [
    "#### Test"
   ]
  },
  {
   "cell_type": "code",
   "execution_count": 50,
   "metadata": {},
   "outputs": [
    {
     "data": {
      "text/plain": [
       "603"
      ]
     },
     "execution_count": 50,
     "metadata": {},
     "output_type": "execute_result"
    }
   ],
   "source": [
    "df_weratedogs_archive['name'].isnull().sum()  # Inspect the sum of Null Values in the dataset"
   ]
  },
  {
   "cell_type": "markdown",
   "metadata": {},
   "source": [
    "### Issue #8: Names in p1, p2 and p3 columns have some starting with upper letters and others with lower letters.\n",
    "\n",
    "\n",
    "\n",
    "#### Define: Correct using the title method"
   ]
  },
  {
   "cell_type": "markdown",
   "metadata": {},
   "source": [
    "#### Code"
   ]
  },
  {
   "cell_type": "code",
   "execution_count": 51,
   "metadata": {},
   "outputs": [],
   "source": [
    "# Correct to Proper case\n",
    "\n",
    "df_weratedogs_archive['p1']= df_weratedogs_archive['p1'].str.title()\n",
    "df_weratedogs_archive['p2']= df_weratedogs_archive['p2'].str.title()\n",
    "df_weratedogs_archive['p3']= df_weratedogs_archive['p3'].str.title()"
   ]
  },
  {
   "cell_type": "markdown",
   "metadata": {},
   "source": [
    "#### Test"
   ]
  },
  {
   "cell_type": "code",
   "execution_count": 52,
   "metadata": {},
   "outputs": [
    {
     "data": {
      "text/html": [
       "<div>\n",
       "<style scoped>\n",
       "    .dataframe tbody tr th:only-of-type {\n",
       "        vertical-align: middle;\n",
       "    }\n",
       "\n",
       "    .dataframe tbody tr th {\n",
       "        vertical-align: top;\n",
       "    }\n",
       "\n",
       "    .dataframe thead th {\n",
       "        text-align: right;\n",
       "    }\n",
       "</style>\n",
       "<table border=\"1\" class=\"dataframe\">\n",
       "  <thead>\n",
       "    <tr style=\"text-align: right;\">\n",
       "      <th></th>\n",
       "      <th>tweet_id</th>\n",
       "      <th>timestamp</th>\n",
       "      <th>source</th>\n",
       "      <th>text</th>\n",
       "      <th>rating_numerator</th>\n",
       "      <th>rating_denominator</th>\n",
       "      <th>name</th>\n",
       "      <th>dog_stages</th>\n",
       "      <th>jpg_url</th>\n",
       "      <th>img_num</th>\n",
       "      <th>...</th>\n",
       "      <th>p1_confidence</th>\n",
       "      <th>p1_dog</th>\n",
       "      <th>p2</th>\n",
       "      <th>p2_confidence</th>\n",
       "      <th>p2_dog</th>\n",
       "      <th>p3</th>\n",
       "      <th>p3_confidence</th>\n",
       "      <th>p3_dog</th>\n",
       "      <th>retweet_count</th>\n",
       "      <th>favorite_count</th>\n",
       "    </tr>\n",
       "  </thead>\n",
       "  <tbody>\n",
       "    <tr>\n",
       "      <th>0</th>\n",
       "      <td>892420643555336193</td>\n",
       "      <td>2017-08-01 16:23:56+00:00</td>\n",
       "      <td>&lt;a href=\"http://twitter.com/download/iphone\" r...</td>\n",
       "      <td>This is Phineas. He's a mystical boy. Only eve...</td>\n",
       "      <td>13</td>\n",
       "      <td>10</td>\n",
       "      <td>Phineas</td>\n",
       "      <td>NaN</td>\n",
       "      <td>https://pbs.twimg.com/media/DGKD1-bXoAAIAUK.jpg</td>\n",
       "      <td>1.0</td>\n",
       "      <td>...</td>\n",
       "      <td>0.097049</td>\n",
       "      <td>False</td>\n",
       "      <td>Bagel</td>\n",
       "      <td>0.085851</td>\n",
       "      <td>False</td>\n",
       "      <td>Banana</td>\n",
       "      <td>0.076110</td>\n",
       "      <td>False</td>\n",
       "      <td>8853.0</td>\n",
       "      <td>39467.0</td>\n",
       "    </tr>\n",
       "    <tr>\n",
       "      <th>1</th>\n",
       "      <td>892177421306343426</td>\n",
       "      <td>2017-08-01 00:17:27+00:00</td>\n",
       "      <td>&lt;a href=\"http://twitter.com/download/iphone\" r...</td>\n",
       "      <td>This is Tilly. She's just checking pup on you....</td>\n",
       "      <td>13</td>\n",
       "      <td>10</td>\n",
       "      <td>Tilly</td>\n",
       "      <td>NaN</td>\n",
       "      <td>https://pbs.twimg.com/media/DGGmoV4XsAAUL6n.jpg</td>\n",
       "      <td>1.0</td>\n",
       "      <td>...</td>\n",
       "      <td>0.323581</td>\n",
       "      <td>True</td>\n",
       "      <td>Pekinese</td>\n",
       "      <td>0.090647</td>\n",
       "      <td>True</td>\n",
       "      <td>Papillon</td>\n",
       "      <td>0.068957</td>\n",
       "      <td>True</td>\n",
       "      <td>6514.0</td>\n",
       "      <td>33819.0</td>\n",
       "    </tr>\n",
       "    <tr>\n",
       "      <th>2</th>\n",
       "      <td>891815181378084864</td>\n",
       "      <td>2017-07-31 00:18:03+00:00</td>\n",
       "      <td>&lt;a href=\"http://twitter.com/download/iphone\" r...</td>\n",
       "      <td>This is Archie. He is a rare Norwegian Pouncin...</td>\n",
       "      <td>12</td>\n",
       "      <td>10</td>\n",
       "      <td>Archie</td>\n",
       "      <td>NaN</td>\n",
       "      <td>https://pbs.twimg.com/media/DGBdLU1WsAANxJ9.jpg</td>\n",
       "      <td>1.0</td>\n",
       "      <td>...</td>\n",
       "      <td>0.716012</td>\n",
       "      <td>True</td>\n",
       "      <td>Malamute</td>\n",
       "      <td>0.078253</td>\n",
       "      <td>True</td>\n",
       "      <td>Kelpie</td>\n",
       "      <td>0.031379</td>\n",
       "      <td>True</td>\n",
       "      <td>4328.0</td>\n",
       "      <td>25461.0</td>\n",
       "    </tr>\n",
       "    <tr>\n",
       "      <th>3</th>\n",
       "      <td>891689557279858688</td>\n",
       "      <td>2017-07-30 15:58:51+00:00</td>\n",
       "      <td>&lt;a href=\"http://twitter.com/download/iphone\" r...</td>\n",
       "      <td>This is Darla. She commenced a snooze mid meal...</td>\n",
       "      <td>13</td>\n",
       "      <td>10</td>\n",
       "      <td>Darla</td>\n",
       "      <td>NaN</td>\n",
       "      <td>https://pbs.twimg.com/media/DF_q7IAWsAEuuN8.jpg</td>\n",
       "      <td>1.0</td>\n",
       "      <td>...</td>\n",
       "      <td>0.170278</td>\n",
       "      <td>False</td>\n",
       "      <td>Labrador_Retriever</td>\n",
       "      <td>0.168086</td>\n",
       "      <td>True</td>\n",
       "      <td>Spatula</td>\n",
       "      <td>0.040836</td>\n",
       "      <td>False</td>\n",
       "      <td>8964.0</td>\n",
       "      <td>42908.0</td>\n",
       "    </tr>\n",
       "    <tr>\n",
       "      <th>4</th>\n",
       "      <td>891327558926688256</td>\n",
       "      <td>2017-07-29 16:00:24+00:00</td>\n",
       "      <td>&lt;a href=\"http://twitter.com/download/iphone\" r...</td>\n",
       "      <td>This is Franklin. He would like you to stop ca...</td>\n",
       "      <td>12</td>\n",
       "      <td>10</td>\n",
       "      <td>Franklin</td>\n",
       "      <td>NaN</td>\n",
       "      <td>https://pbs.twimg.com/media/DF6hr6BUMAAzZgT.jpg</td>\n",
       "      <td>2.0</td>\n",
       "      <td>...</td>\n",
       "      <td>0.555712</td>\n",
       "      <td>True</td>\n",
       "      <td>English_Springer</td>\n",
       "      <td>0.225770</td>\n",
       "      <td>True</td>\n",
       "      <td>German_Short-Haired_Pointer</td>\n",
       "      <td>0.175219</td>\n",
       "      <td>True</td>\n",
       "      <td>9774.0</td>\n",
       "      <td>41048.0</td>\n",
       "    </tr>\n",
       "    <tr>\n",
       "      <th>5</th>\n",
       "      <td>891087950875897856</td>\n",
       "      <td>2017-07-29 00:08:17+00:00</td>\n",
       "      <td>&lt;a href=\"http://twitter.com/download/iphone\" r...</td>\n",
       "      <td>Here we have a majestic great white breaching ...</td>\n",
       "      <td>13</td>\n",
       "      <td>10</td>\n",
       "      <td>NaN</td>\n",
       "      <td>NaN</td>\n",
       "      <td>https://pbs.twimg.com/media/DF3HwyEWsAABqE6.jpg</td>\n",
       "      <td>1.0</td>\n",
       "      <td>...</td>\n",
       "      <td>0.425595</td>\n",
       "      <td>True</td>\n",
       "      <td>Irish_Terrier</td>\n",
       "      <td>0.116317</td>\n",
       "      <td>True</td>\n",
       "      <td>Indian_Elephant</td>\n",
       "      <td>0.076902</td>\n",
       "      <td>False</td>\n",
       "      <td>3261.0</td>\n",
       "      <td>20562.0</td>\n",
       "    </tr>\n",
       "    <tr>\n",
       "      <th>6</th>\n",
       "      <td>890971913173991426</td>\n",
       "      <td>2017-07-28 16:27:12+00:00</td>\n",
       "      <td>&lt;a href=\"http://twitter.com/download/iphone\" r...</td>\n",
       "      <td>Meet Jax. He enjoys ice cream so much he gets ...</td>\n",
       "      <td>13</td>\n",
       "      <td>10</td>\n",
       "      <td>Jax</td>\n",
       "      <td>NaN</td>\n",
       "      <td>https://pbs.twimg.com/media/DF1eOmZXUAALUcq.jpg</td>\n",
       "      <td>1.0</td>\n",
       "      <td>...</td>\n",
       "      <td>0.341703</td>\n",
       "      <td>True</td>\n",
       "      <td>Border_Collie</td>\n",
       "      <td>0.199287</td>\n",
       "      <td>True</td>\n",
       "      <td>Ice_Lolly</td>\n",
       "      <td>0.193548</td>\n",
       "      <td>False</td>\n",
       "      <td>2158.0</td>\n",
       "      <td>12041.0</td>\n",
       "    </tr>\n",
       "    <tr>\n",
       "      <th>7</th>\n",
       "      <td>890729181411237888</td>\n",
       "      <td>2017-07-28 00:22:40+00:00</td>\n",
       "      <td>&lt;a href=\"http://twitter.com/download/iphone\" r...</td>\n",
       "      <td>When you watch your owner call another dog a g...</td>\n",
       "      <td>13</td>\n",
       "      <td>10</td>\n",
       "      <td>NaN</td>\n",
       "      <td>NaN</td>\n",
       "      <td>https://pbs.twimg.com/media/DFyBahAVwAAhUTd.jpg</td>\n",
       "      <td>2.0</td>\n",
       "      <td>...</td>\n",
       "      <td>0.566142</td>\n",
       "      <td>True</td>\n",
       "      <td>Eskimo_Dog</td>\n",
       "      <td>0.178406</td>\n",
       "      <td>True</td>\n",
       "      <td>Pembroke</td>\n",
       "      <td>0.076507</td>\n",
       "      <td>True</td>\n",
       "      <td>16716.0</td>\n",
       "      <td>56848.0</td>\n",
       "    </tr>\n",
       "    <tr>\n",
       "      <th>8</th>\n",
       "      <td>890609185150312448</td>\n",
       "      <td>2017-07-27 16:25:51+00:00</td>\n",
       "      <td>&lt;a href=\"http://twitter.com/download/iphone\" r...</td>\n",
       "      <td>This is Zoey. She doesn't want to be one of th...</td>\n",
       "      <td>13</td>\n",
       "      <td>10</td>\n",
       "      <td>Zoey</td>\n",
       "      <td>NaN</td>\n",
       "      <td>https://pbs.twimg.com/media/DFwUU__XcAEpyXI.jpg</td>\n",
       "      <td>1.0</td>\n",
       "      <td>...</td>\n",
       "      <td>0.487574</td>\n",
       "      <td>True</td>\n",
       "      <td>Irish_Setter</td>\n",
       "      <td>0.193054</td>\n",
       "      <td>True</td>\n",
       "      <td>Chesapeake_Bay_Retriever</td>\n",
       "      <td>0.118184</td>\n",
       "      <td>True</td>\n",
       "      <td>4429.0</td>\n",
       "      <td>28226.0</td>\n",
       "    </tr>\n",
       "    <tr>\n",
       "      <th>9</th>\n",
       "      <td>890240255349198849</td>\n",
       "      <td>2017-07-26 15:59:51+00:00</td>\n",
       "      <td>&lt;a href=\"http://twitter.com/download/iphone\" r...</td>\n",
       "      <td>This is Cassie. She is a college pup. Studying...</td>\n",
       "      <td>14</td>\n",
       "      <td>10</td>\n",
       "      <td>Cassie</td>\n",
       "      <td>doggo</td>\n",
       "      <td>https://pbs.twimg.com/media/DFrEyVuW0AAO3t9.jpg</td>\n",
       "      <td>1.0</td>\n",
       "      <td>...</td>\n",
       "      <td>0.511319</td>\n",
       "      <td>True</td>\n",
       "      <td>Cardigan</td>\n",
       "      <td>0.451038</td>\n",
       "      <td>True</td>\n",
       "      <td>Chihuahua</td>\n",
       "      <td>0.029248</td>\n",
       "      <td>True</td>\n",
       "      <td>7711.0</td>\n",
       "      <td>32467.0</td>\n",
       "    </tr>\n",
       "  </tbody>\n",
       "</table>\n",
       "<p>10 rows × 21 columns</p>\n",
       "</div>"
      ],
      "text/plain": [
       "             tweet_id                 timestamp  \\\n",
       "0  892420643555336193 2017-08-01 16:23:56+00:00   \n",
       "1  892177421306343426 2017-08-01 00:17:27+00:00   \n",
       "2  891815181378084864 2017-07-31 00:18:03+00:00   \n",
       "3  891689557279858688 2017-07-30 15:58:51+00:00   \n",
       "4  891327558926688256 2017-07-29 16:00:24+00:00   \n",
       "5  891087950875897856 2017-07-29 00:08:17+00:00   \n",
       "6  890971913173991426 2017-07-28 16:27:12+00:00   \n",
       "7  890729181411237888 2017-07-28 00:22:40+00:00   \n",
       "8  890609185150312448 2017-07-27 16:25:51+00:00   \n",
       "9  890240255349198849 2017-07-26 15:59:51+00:00   \n",
       "\n",
       "                                              source  \\\n",
       "0  <a href=\"http://twitter.com/download/iphone\" r...   \n",
       "1  <a href=\"http://twitter.com/download/iphone\" r...   \n",
       "2  <a href=\"http://twitter.com/download/iphone\" r...   \n",
       "3  <a href=\"http://twitter.com/download/iphone\" r...   \n",
       "4  <a href=\"http://twitter.com/download/iphone\" r...   \n",
       "5  <a href=\"http://twitter.com/download/iphone\" r...   \n",
       "6  <a href=\"http://twitter.com/download/iphone\" r...   \n",
       "7  <a href=\"http://twitter.com/download/iphone\" r...   \n",
       "8  <a href=\"http://twitter.com/download/iphone\" r...   \n",
       "9  <a href=\"http://twitter.com/download/iphone\" r...   \n",
       "\n",
       "                                                text  rating_numerator  \\\n",
       "0  This is Phineas. He's a mystical boy. Only eve...                13   \n",
       "1  This is Tilly. She's just checking pup on you....                13   \n",
       "2  This is Archie. He is a rare Norwegian Pouncin...                12   \n",
       "3  This is Darla. She commenced a snooze mid meal...                13   \n",
       "4  This is Franklin. He would like you to stop ca...                12   \n",
       "5  Here we have a majestic great white breaching ...                13   \n",
       "6  Meet Jax. He enjoys ice cream so much he gets ...                13   \n",
       "7  When you watch your owner call another dog a g...                13   \n",
       "8  This is Zoey. She doesn't want to be one of th...                13   \n",
       "9  This is Cassie. She is a college pup. Studying...                14   \n",
       "\n",
       "   rating_denominator      name dog_stages  \\\n",
       "0                  10   Phineas        NaN   \n",
       "1                  10     Tilly        NaN   \n",
       "2                  10    Archie        NaN   \n",
       "3                  10     Darla        NaN   \n",
       "4                  10  Franklin        NaN   \n",
       "5                  10       NaN        NaN   \n",
       "6                  10       Jax        NaN   \n",
       "7                  10       NaN        NaN   \n",
       "8                  10      Zoey        NaN   \n",
       "9                  10    Cassie      doggo   \n",
       "\n",
       "                                           jpg_url  img_num  ...  \\\n",
       "0  https://pbs.twimg.com/media/DGKD1-bXoAAIAUK.jpg      1.0  ...   \n",
       "1  https://pbs.twimg.com/media/DGGmoV4XsAAUL6n.jpg      1.0  ...   \n",
       "2  https://pbs.twimg.com/media/DGBdLU1WsAANxJ9.jpg      1.0  ...   \n",
       "3  https://pbs.twimg.com/media/DF_q7IAWsAEuuN8.jpg      1.0  ...   \n",
       "4  https://pbs.twimg.com/media/DF6hr6BUMAAzZgT.jpg      2.0  ...   \n",
       "5  https://pbs.twimg.com/media/DF3HwyEWsAABqE6.jpg      1.0  ...   \n",
       "6  https://pbs.twimg.com/media/DF1eOmZXUAALUcq.jpg      1.0  ...   \n",
       "7  https://pbs.twimg.com/media/DFyBahAVwAAhUTd.jpg      2.0  ...   \n",
       "8  https://pbs.twimg.com/media/DFwUU__XcAEpyXI.jpg      1.0  ...   \n",
       "9  https://pbs.twimg.com/media/DFrEyVuW0AAO3t9.jpg      1.0  ...   \n",
       "\n",
       "  p1_confidence  p1_dog                  p2 p2_confidence  p2_dog  \\\n",
       "0      0.097049   False               Bagel      0.085851   False   \n",
       "1      0.323581    True            Pekinese      0.090647    True   \n",
       "2      0.716012    True            Malamute      0.078253    True   \n",
       "3      0.170278   False  Labrador_Retriever      0.168086    True   \n",
       "4      0.555712    True    English_Springer      0.225770    True   \n",
       "5      0.425595    True       Irish_Terrier      0.116317    True   \n",
       "6      0.341703    True       Border_Collie      0.199287    True   \n",
       "7      0.566142    True          Eskimo_Dog      0.178406    True   \n",
       "8      0.487574    True        Irish_Setter      0.193054    True   \n",
       "9      0.511319    True            Cardigan      0.451038    True   \n",
       "\n",
       "                            p3 p3_confidence  p3_dog retweet_count  \\\n",
       "0                       Banana      0.076110   False        8853.0   \n",
       "1                     Papillon      0.068957    True        6514.0   \n",
       "2                       Kelpie      0.031379    True        4328.0   \n",
       "3                      Spatula      0.040836   False        8964.0   \n",
       "4  German_Short-Haired_Pointer      0.175219    True        9774.0   \n",
       "5              Indian_Elephant      0.076902   False        3261.0   \n",
       "6                    Ice_Lolly      0.193548   False        2158.0   \n",
       "7                     Pembroke      0.076507    True       16716.0   \n",
       "8     Chesapeake_Bay_Retriever      0.118184    True        4429.0   \n",
       "9                    Chihuahua      0.029248    True        7711.0   \n",
       "\n",
       "   favorite_count  \n",
       "0         39467.0  \n",
       "1         33819.0  \n",
       "2         25461.0  \n",
       "3         42908.0  \n",
       "4         41048.0  \n",
       "5         20562.0  \n",
       "6         12041.0  \n",
       "7         56848.0  \n",
       "8         28226.0  \n",
       "9         32467.0  \n",
       "\n",
       "[10 rows x 21 columns]"
      ]
     },
     "execution_count": 52,
     "metadata": {},
     "output_type": "execute_result"
    }
   ],
   "source": [
    "df_weratedogs_archive.head(10)  # Inspect top 10 rows"
   ]
  },
  {
   "cell_type": "code",
   "execution_count": 53,
   "metadata": {},
   "outputs": [
    {
     "name": "stdout",
     "output_type": "stream",
     "text": [
      "<class 'pandas.core.frame.DataFrame'>\n",
      "Int64Index: 2097 entries, 0 to 2355\n",
      "Data columns (total 21 columns):\n",
      " #   Column              Non-Null Count  Dtype              \n",
      "---  ------              --------------  -----              \n",
      " 0   tweet_id            2097 non-null   object             \n",
      " 1   timestamp           2097 non-null   datetime64[ns, UTC]\n",
      " 2   source              2097 non-null   object             \n",
      " 3   text                2097 non-null   object             \n",
      " 4   rating_numerator    2097 non-null   int64              \n",
      " 5   rating_denominator  2097 non-null   int64              \n",
      " 6   name                1494 non-null   object             \n",
      " 7   dog_stages          336 non-null    object             \n",
      " 8   jpg_url             1971 non-null   object             \n",
      " 9   img_num             1971 non-null   float64            \n",
      " 10  p1                  1971 non-null   object             \n",
      " 11  p1_confidence       1971 non-null   float64            \n",
      " 12  p1_dog              1971 non-null   object             \n",
      " 13  p2                  1971 non-null   object             \n",
      " 14  p2_confidence       1971 non-null   float64            \n",
      " 15  p2_dog              1971 non-null   object             \n",
      " 16  p3                  1971 non-null   object             \n",
      " 17  p3_confidence       1971 non-null   float64            \n",
      " 18  p3_dog              1971 non-null   object             \n",
      " 19  retweet_count       2097 non-null   float64            \n",
      " 20  favorite_count      2097 non-null   float64            \n",
      "dtypes: datetime64[ns, UTC](1), float64(6), int64(2), object(12)\n",
      "memory usage: 425.0+ KB\n"
     ]
    }
   ],
   "source": [
    "df_weratedogs_archive.info()  # Inspect feature attributes"
   ]
  },
  {
   "cell_type": "markdown",
   "metadata": {},
   "source": [
    "## Storing Data\n",
    "\n",
    "> store the combined datasets in a comma_separated_file (csv)"
   ]
  },
  {
   "cell_type": "code",
   "execution_count": 54,
   "metadata": {},
   "outputs": [],
   "source": [
    "# Store the newly combined and clean dataset into a csv file\n",
    "\n",
    "df_weratedogs_archive.to_csv('weratedogs_archive.csv', index= False)"
   ]
  },
  {
   "cell_type": "markdown",
   "metadata": {},
   "source": [
    "# Exploratory Data Analysis\n",
    "\n",
    "\n",
    "## Analyzing and Visualizing Data\n",
    "\n",
    "> Obtain insights to questions by analysis and visualization of the dataset"
   ]
  },
  {
   "cell_type": "code",
   "execution_count": 55,
   "metadata": {},
   "outputs": [
    {
     "data": {
      "image/png": "[encoded data removed]",
      "text/plain": [
       "<Figure size 864x864 with 2 Axes>"
      ]
     },
     "metadata": {
      "needs_background": "light"
     },
     "output_type": "display_data"
    }
   ],
   "source": [
    "# Obtain the correlation for features in the dataset\n",
    "corr= df_weratedogs_archive.corr()\n",
    "\n",
    "# Visualize the correlation matrix\n",
    "plt.figure(figsize= (12,12))\n",
    "sns.heatmap(corr, cmap= 'coolwarm', annot= True)\n",
    "plt.show()"
   ]
  },
  {
   "cell_type": "markdown",
   "metadata": {},
   "source": [
    "> It is evident that there is a strong correlation between the favorite counts and retweet counts."
   ]
  },
  {
   "cell_type": "markdown",
   "metadata": {},
   "source": [
    "### Question 1: What is the most popular dog name?"
   ]
  },
  {
   "cell_type": "code",
   "execution_count": 56,
   "metadata": {},
   "outputs": [
    {
     "data": {
      "text/plain": [
       "a             55\n",
       "Charlie       11\n",
       "Lucy          11\n",
       "Oliver        10\n",
       "Cooper        10\n",
       "              ..\n",
       "Wishes         1\n",
       "Rose           1\n",
       "Theo           1\n",
       "Fido           1\n",
       "Christoper     1\n",
       "Name: name, Length: 954, dtype: int64"
      ]
     },
     "execution_count": 56,
     "metadata": {},
     "output_type": "execute_result"
    }
   ],
   "source": [
    "df_weratedogs_archive['name'].value_counts()  # Get the count of individual dog name"
   ]
  },
  {
   "cell_type": "code",
   "execution_count": 57,
   "metadata": {},
   "outputs": [],
   "source": [
    "# Replace invalid name with Null values\n",
    "\n",
    "df_weratedogs_archive['name']= df_weratedogs_archive['name'].replace('a', np.nan)"
   ]
  },
  {
   "cell_type": "code",
   "execution_count": 58,
   "metadata": {},
   "outputs": [
    {
     "data": {
      "image/png": "[encoded data removed]",
      "text/plain": [
       "<Figure size 864x864 with 1 Axes>"
      ]
     },
     "metadata": {
      "needs_background": "light"
     },
     "output_type": "display_data"
    }
   ],
   "source": [
    "# Select only rows having a name from the dataset and \n",
    "# visualize only names having '10' or more appearance in descending order.\n",
    "\n",
    "dog_names= df_weratedogs_archive.query('name == name')\n",
    "dog_names1= dog_names.groupby('name').count()[['tweet_id']]\n",
    "dog_names1.query('tweet_id >= 10').sort_values(by= ['tweet_id']).plot(kind= 'barh', figsize= (12,12), color= 'brown', stacked= False)\n",
    "\n",
    "plt.xlim(right= 12) # Set highest count displayed to be '12'\n",
    "plt.suptitle('Most Popular Dog Names', fontsize= 20, fontstyle= 'oblique')\n",
    "plt.xlabel('Frequency', fontsize= 14)\n",
    "plt.ylabel('Dog_Names', fontsize= 14)\n",
    "plt.show()"
   ]
  },
  {
   "cell_type": "markdown",
   "metadata": {},
   "source": [
    "> Lucy and Charlie are the most popular dog names."
   ]
  },
  {
   "cell_type": "markdown",
   "metadata": {},
   "source": [
    "### Question 2: Which dog is most loved by people?"
   ]
  },
  {
   "cell_type": "code",
   "execution_count": 59,
   "metadata": {},
   "outputs": [
    {
     "data": {
      "text/plain": [
       "4196.0"
      ]
     },
     "execution_count": 59,
     "metadata": {},
     "output_type": "execute_result"
    }
   ],
   "source": [
    "df_weratedogs_archive['favorite_count'].median()  # Obtain the median favorite_count"
   ]
  },
  {
   "cell_type": "code",
   "execution_count": 60,
   "metadata": {},
   "outputs": [
    {
     "data": {
      "text/plain": [
       "132810.0"
      ]
     },
     "execution_count": 60,
     "metadata": {},
     "output_type": "execute_result"
    }
   ],
   "source": [
    "df_weratedogs_archive['favorite_count'].max()  # Obtain the maximum favorite_count"
   ]
  },
  {
   "cell_type": "code",
   "execution_count": 61,
   "metadata": {},
   "outputs": [
    {
     "data": {
      "text/html": [
       "<div>\n",
       "<style scoped>\n",
       "    .dataframe tbody tr th:only-of-type {\n",
       "        vertical-align: middle;\n",
       "    }\n",
       "\n",
       "    .dataframe tbody tr th {\n",
       "        vertical-align: top;\n",
       "    }\n",
       "\n",
       "    .dataframe thead th {\n",
       "        text-align: right;\n",
       "    }\n",
       "</style>\n",
       "<table border=\"1\" class=\"dataframe\">\n",
       "  <thead>\n",
       "    <tr style=\"text-align: right;\">\n",
       "      <th></th>\n",
       "      <th>tweet_id</th>\n",
       "      <th>timestamp</th>\n",
       "      <th>source</th>\n",
       "      <th>text</th>\n",
       "      <th>rating_numerator</th>\n",
       "      <th>rating_denominator</th>\n",
       "      <th>name</th>\n",
       "      <th>dog_stages</th>\n",
       "      <th>jpg_url</th>\n",
       "      <th>img_num</th>\n",
       "      <th>...</th>\n",
       "      <th>p1_confidence</th>\n",
       "      <th>p1_dog</th>\n",
       "      <th>p2</th>\n",
       "      <th>p2_confidence</th>\n",
       "      <th>p2_dog</th>\n",
       "      <th>p3</th>\n",
       "      <th>p3_confidence</th>\n",
       "      <th>p3_dog</th>\n",
       "      <th>retweet_count</th>\n",
       "      <th>favorite_count</th>\n",
       "    </tr>\n",
       "  </thead>\n",
       "  <tbody>\n",
       "    <tr>\n",
       "      <th>66</th>\n",
       "      <td>879415818425184262</td>\n",
       "      <td>2017-06-26 19:07:24+00:00</td>\n",
       "      <td>&lt;a href=\"http://twitter.com/download/iphone\" r...</td>\n",
       "      <td>This is Duddles. He did an attempt. 13/10 some...</td>\n",
       "      <td>13</td>\n",
       "      <td>10</td>\n",
       "      <td>Duddles</td>\n",
       "      <td>NaN</td>\n",
       "      <td>https://pbs.twimg.com/ext_tw_video_thumb/87941...</td>\n",
       "      <td>1.0</td>\n",
       "      <td>...</td>\n",
       "      <td>0.383404</td>\n",
       "      <td>True</td>\n",
       "      <td>Boston_Bull</td>\n",
       "      <td>0.134967</td>\n",
       "      <td>True</td>\n",
       "      <td>Cardigan</td>\n",
       "      <td>0.110481</td>\n",
       "      <td>True</td>\n",
       "      <td>45849.0</td>\n",
       "      <td>107956.0</td>\n",
       "    </tr>\n",
       "  </tbody>\n",
       "</table>\n",
       "<p>1 rows × 21 columns</p>\n",
       "</div>"
      ],
      "text/plain": [
       "              tweet_id                 timestamp  \\\n",
       "66  879415818425184262 2017-06-26 19:07:24+00:00   \n",
       "\n",
       "                                               source  \\\n",
       "66  <a href=\"http://twitter.com/download/iphone\" r...   \n",
       "\n",
       "                                                 text  rating_numerator  \\\n",
       "66  This is Duddles. He did an attempt. 13/10 some...                13   \n",
       "\n",
       "    rating_denominator     name dog_stages  \\\n",
       "66                  10  Duddles        NaN   \n",
       "\n",
       "                                              jpg_url  img_num  ...  \\\n",
       "66  https://pbs.twimg.com/ext_tw_video_thumb/87941...      1.0  ...   \n",
       "\n",
       "   p1_confidence  p1_dog           p2 p2_confidence  p2_dog        p3  \\\n",
       "66      0.383404    True  Boston_Bull      0.134967    True  Cardigan   \n",
       "\n",
       "   p3_confidence  p3_dog retweet_count  favorite_count  \n",
       "66      0.110481    True       45849.0        107956.0  \n",
       "\n",
       "[1 rows x 21 columns]"
      ]
     },
     "execution_count": 61,
     "metadata": {},
     "output_type": "execute_result"
    }
   ],
   "source": [
    "# Select only rows having a dog name from the dataset\n",
    "loved_dog= df_weratedogs_archive.query('name == name')\n",
    "\n",
    "# Select the row with a dog name whose favorite_count is the maximum\n",
    "loved_dog.query('favorite_count == favorite_count.max()')"
   ]
  },
  {
   "cell_type": "markdown",
   "metadata": {},
   "source": [
    "> The name of the most loved dog is Duddles with a favorite_count of 107956.0. Since favorite_count is highly correlated(positive) to retweet_count, it follows that Duddles is also the dog(with a name) with the most retweet."
   ]
  },
  {
   "cell_type": "markdown",
   "metadata": {},
   "source": [
    "### Question 2: What is the most popular Dog stage?"
   ]
  },
  {
   "cell_type": "code",
   "execution_count": 62,
   "metadata": {},
   "outputs": [
    {
     "data": {
      "image/png": "[encoded data removed]",
      "text/plain": [
       "<Figure size 864x864 with 1 Axes>"
      ]
     },
     "metadata": {
      "needs_background": "light"
     },
     "output_type": "display_data"
    }
   ],
   "source": [
    "# Visualize the 'dog_stages' column\n",
    "\n",
    "plt.figure(figsize= (12,12))\n",
    "plt.title('Popular Dog Stages', fontsize= 20)\n",
    "plt.bar(x= df_weratedogs_archive['dog_stages'].value_counts().index, height= df_weratedogs_archive['dog_stages'].value_counts().values)\n",
    "plt.show()"
   ]
  },
  {
   "cell_type": "markdown",
   "metadata": {},
   "source": [
    "> pupper is the most popular dog stage"
   ]
  },
  {
   "cell_type": "markdown",
   "metadata": {},
   "source": [
    "\n",
    "# Conclusion\n",
    "\n",
    "\n",
    "\n",
    "### Insights:\n",
    "1.  **Most popular Dog** names are **Lucy** and **Charlie**.\n",
    "\n",
    "\n",
    "2. Retweet_count and Favorite_count are highly correlated positively with a correlation coefficient of 0.91.\n",
    "\n",
    "\n",
    "3. The **most loved dog** with a name is **Duddles** with a rating of 13/10.\n",
    "\n",
    "\n",
    "4. The **most popular dog stage** is **Pupper** with a count of over 200 dogs.\n",
    "\n",
    "\n",
    "5. The **least popular** dog stage is **'doggo, floofer**' stage."
   ]
  }
 ],
 "metadata": {
  "extensions": {
   "jupyter_dashboards": {
    "activeView": "report_default",
    "version": 1,
    "views": {
     "grid_default": {
      "cellMargin": 10,
      "defaultCellHeight": 20,
      "maxColumns": 12,
      "name": "grid",
      "type": "grid"
     },
     "report_default": {
      "name": "report",
      "type": "report"
     }
    }
   }
  },
  "kernelspec": {
   "display_name": "Python 3 (ipykernel)",
   "language": "python",
   "name": "python3"
  },
  "language_info": {
   "codemirror_mode": {
    "name": "ipython",
    "version": 3
   },
   "file_extension": ".py",
   "mimetype": "text/x-python",
   "name": "python",
   "nbconvert_exporter": "python",
   "pygments_lexer": "ipython3",
   "version": "3.9.7"
  }
 },
 "nbformat": 4,
 "nbformat_minor": 2
}
